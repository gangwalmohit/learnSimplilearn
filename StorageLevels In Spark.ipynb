{
 "cells": [
  {
   "cell_type": "code",
   "execution_count": 1,
   "id": "98a21dc5",
   "metadata": {},
   "outputs": [
    {
     "data": {
      "text/plain": [
       "'C:\\\\apachespark\\\\spark-2.4.7-bin-hadoop2.7'"
      ]
     },
     "execution_count": 1,
     "metadata": {},
     "output_type": "execute_result"
    }
   ],
   "source": [
    "import findspark\n",
    "findspark.init()\n",
    "findspark.find()"
   ]
  },
  {
   "cell_type": "code",
   "execution_count": 2,
   "id": "a5b13adc",
   "metadata": {},
   "outputs": [],
   "source": [
    "from pyspark.sql import SparkSession\n",
    "spark=SparkSession.builder.appName('Demo').getOrCreate()"
   ]
  },
  {
   "cell_type": "code",
   "execution_count": 3,
   "id": "1bb8e401",
   "metadata": {},
   "outputs": [],
   "source": [
    "autoDataDF = spark.read.option(\"header\",True).option(\"inferSchema\",True).csv('auto-data.csv')"
   ]
  },
  {
   "cell_type": "code",
   "execution_count": 4,
   "id": "e76201a5",
   "metadata": {},
   "outputs": [
    {
     "name": "stdout",
     "output_type": "stream",
     "text": [
      "Wall time: 407 ms\n"
     ]
    },
    {
     "data": {
      "text/plain": [
       "197"
      ]
     },
     "execution_count": 4,
     "metadata": {},
     "output_type": "execute_result"
    }
   ],
   "source": [
    "%%time\n",
    "autoDataDF.count()"
   ]
  },
  {
   "cell_type": "code",
   "execution_count": 5,
   "id": "3a78e588",
   "metadata": {},
   "outputs": [],
   "source": [
    "# Apache Spark\n",
    "# 100x faster than Hadoop if execution is In-memory\n",
    "# 10x faster than Hadoop if execution is On-disk\n",
    "# \n",
    "# Default Execution mode for Apache Spark is On-disk\n",
    "#\n",
    "# Spark is lazy like me ;)"
   ]
  },
  {
   "cell_type": "code",
   "execution_count": 6,
   "id": "fc700f6a",
   "metadata": {},
   "outputs": [
    {
     "data": {
      "text/plain": [
       "DataFrame[MAKE: string, FUELTYPE: string, ASPIRE: string, DOORS: string, BODY: string, DRIVE: string, CYLINDERS: string, HP: int, RPM: int, MPG-CITY: int, MPG-HWY: int, PRICE: int]"
      ]
     },
     "execution_count": 6,
     "metadata": {},
     "output_type": "execute_result"
    }
   ],
   "source": [
    "\n",
    "#To bring data in-memory\n",
    "autoDataDF.cache()"
   ]
  },
  {
   "cell_type": "code",
   "execution_count": 7,
   "id": "11b36ba3",
   "metadata": {},
   "outputs": [
    {
     "name": "stdout",
     "output_type": "stream",
     "text": [
      "Wall time: 388 ms\n"
     ]
    },
    {
     "data": {
      "text/plain": [
       "197"
      ]
     },
     "execution_count": 7,
     "metadata": {},
     "output_type": "execute_result"
    }
   ],
   "source": [
    "%%time\n",
    "autoDataDF.count()"
   ]
  },
  {
   "cell_type": "code",
   "execution_count": 8,
   "id": "75bdb2d3",
   "metadata": {},
   "outputs": [
    {
     "data": {
      "text/html": [
       "\n",
       "            <div>\n",
       "                <p><b>SparkSession - in-memory</b></p>\n",
       "                \n",
       "        <div>\n",
       "            <p><b>SparkContext</b></p>\n",
       "\n",
       "            <p><a href=\"http://TIGER01272.tigeranalytics.local:4042\">Spark UI</a></p>\n",
       "\n",
       "            <dl>\n",
       "              <dt>Version</dt>\n",
       "                <dd><code>v2.4.7</code></dd>\n",
       "              <dt>Master</dt>\n",
       "                <dd><code>local[*]</code></dd>\n",
       "              <dt>AppName</dt>\n",
       "                <dd><code>Demo</code></dd>\n",
       "            </dl>\n",
       "        </div>\n",
       "        \n",
       "            </div>\n",
       "        "
      ],
      "text/plain": [
       "<pyspark.sql.session.SparkSession at 0x1b01c620308>"
      ]
     },
     "execution_count": 8,
     "metadata": {},
     "output_type": "execute_result"
    }
   ],
   "source": [
    "spark\n"
   ]
  },
  {
   "cell_type": "code",
   "execution_count": 9,
   "id": "02d95ed1",
   "metadata": {},
   "outputs": [
    {
     "name": "stdout",
     "output_type": "stream",
     "text": [
      "Wall time: 89 ms\n"
     ]
    },
    {
     "data": {
      "text/plain": [
       "197"
      ]
     },
     "execution_count": 9,
     "metadata": {},
     "output_type": "execute_result"
    }
   ],
   "source": [
    "%%time\n",
    "autoDataDF.count()"
   ]
  },
  {
   "cell_type": "code",
   "execution_count": 10,
   "id": "c29bfd7e",
   "metadata": {},
   "outputs": [
    {
     "data": {
      "text/plain": [
       "DataFrame[MAKE: string, FUELTYPE: string, ASPIRE: string, DOORS: string, BODY: string, DRIVE: string, CYLINDERS: string, HP: int, RPM: int, MPG-CITY: int, MPG-HWY: int, PRICE: int]"
      ]
     },
     "execution_count": 10,
     "metadata": {},
     "output_type": "execute_result"
    }
   ],
   "source": [
    "#clear the data  from in-memory\n",
    "autoDataDF.unpersist()"
   ]
  },
  {
   "cell_type": "code",
   "execution_count": 12,
   "id": "b392bc22",
   "metadata": {},
   "outputs": [
    {
     "name": "stdout",
     "output_type": "stream",
     "text": [
      "Wall time: 90.4 ms\n"
     ]
    },
    {
     "data": {
      "text/plain": [
       "197"
      ]
     },
     "execution_count": 12,
     "metadata": {},
     "output_type": "execute_result"
    }
   ],
   "source": [
    "%%time\n",
    "autoDataDF.count()"
   ]
  },
  {
   "cell_type": "code",
   "execution_count": 14,
   "id": "4a54b1de",
   "metadata": {},
   "outputs": [
    {
     "data": {
      "text/plain": [
       "DataFrame[MAKE: string, FUELTYPE: string, ASPIRE: string, DOORS: string, BODY: string, DRIVE: string, CYLINDERS: string, HP: int, RPM: int, MPG-CITY: int, MPG-HWY: int, PRICE: int]"
      ]
     },
     "execution_count": 14,
     "metadata": {},
     "output_type": "execute_result"
    }
   ],
   "source": [
    "from pyspark import StorageLevel\n",
    "autoDataDF.persist(StorageLevel.MEMORY_ONLY)"
   ]
  },
  {
   "cell_type": "code",
   "execution_count": 15,
   "id": "8f424e9d",
   "metadata": {},
   "outputs": [
    {
     "name": "stdout",
     "output_type": "stream",
     "text": [
      "Wall time: 235 ms\n"
     ]
    },
    {
     "data": {
      "text/plain": [
       "[Row(MAKE='subaru', FUELTYPE='gas', ASPIRE='std', DOORS='two', BODY='hatchback', DRIVE='fwd', CYLINDERS='four', HP=69, RPM=4900, MPG-CITY=31, MPG-HWY=36, PRICE=5118),\n",
       " Row(MAKE='chevrolet', FUELTYPE='gas', ASPIRE='std', DOORS='two', BODY='hatchback', DRIVE='fwd', CYLINDERS='three', HP=48, RPM=5100, MPG-CITY=47, MPG-HWY=53, PRICE=5151),\n",
       " Row(MAKE='mazda', FUELTYPE='gas', ASPIRE='std', DOORS='two', BODY='hatchback', DRIVE='fwd', CYLINDERS='four', HP=68, RPM=5000, MPG-CITY=30, MPG-HWY=31, PRICE=5195),\n",
       " Row(MAKE='toyota', FUELTYPE='gas', ASPIRE='std', DOORS='two', BODY='hatchback', DRIVE='fwd', CYLINDERS='four', HP=62, RPM=4800, MPG-CITY=35, MPG-HWY=39, PRICE=5348),\n",
       " Row(MAKE='mitsubishi', FUELTYPE='gas', ASPIRE='std', DOORS='two', BODY='hatchback', DRIVE='fwd', CYLINDERS='four', HP=68, RPM=5500, MPG-CITY=37, MPG-HWY=41, PRICE=5389),\n",
       " Row(MAKE='honda', FUELTYPE='gas', ASPIRE='std', DOORS='two', BODY='hatchback', DRIVE='fwd', CYLINDERS='four', HP=60, RPM=5500, MPG-CITY=38, MPG-HWY=42, PRICE=5399),\n",
       " Row(MAKE='nissan', FUELTYPE='gas', ASPIRE='std', DOORS='two', BODY='sedan', DRIVE='fwd', CYLINDERS='four', HP=69, RPM=5200, MPG-CITY=31, MPG-HWY=37, PRICE=5499),\n",
       " Row(MAKE='dodge', FUELTYPE='gas', ASPIRE='std', DOORS='two', BODY='hatchback', DRIVE='fwd', CYLINDERS='four', HP=68, RPM=5500, MPG-CITY=37, MPG-HWY=41, PRICE=5572),\n",
       " Row(MAKE='plymouth', FUELTYPE='gas', ASPIRE='std', DOORS='two', BODY='hatchback', DRIVE='fwd', CYLINDERS='four', HP=68, RPM=5500, MPG-CITY=37, MPG-HWY=41, PRICE=5572),\n",
       " Row(MAKE='mazda', FUELTYPE='gas', ASPIRE='std', DOORS='two', BODY='hatchback', DRIVE='fwd', CYLINDERS='four', HP=68, RPM=5000, MPG-CITY=31, MPG-HWY=38, PRICE=6095),\n",
       " Row(MAKE='mitsubishi', FUELTYPE='gas', ASPIRE='std', DOORS='two', BODY='hatchback', DRIVE='fwd', CYLINDERS='four', HP=68, RPM=5500, MPG-CITY=31, MPG-HWY=38, PRICE=6189),\n",
       " Row(MAKE='dodge', FUELTYPE='gas', ASPIRE='std', DOORS='four', BODY='hatchback', DRIVE='fwd', CYLINDERS='four', HP=68, RPM=5500, MPG-CITY=31, MPG-HWY=38, PRICE=6229),\n",
       " Row(MAKE='plymouth', FUELTYPE='gas', ASPIRE='std', DOORS='four', BODY='hatchback', DRIVE='fwd', CYLINDERS='four', HP=68, RPM=5500, MPG-CITY=31, MPG-HWY=38, PRICE=6229),\n",
       " Row(MAKE='chevrolet', FUELTYPE='gas', ASPIRE='std', DOORS='two', BODY='hatchback', DRIVE='fwd', CYLINDERS='four', HP=70, RPM=5400, MPG-CITY=38, MPG-HWY=43, PRICE=6295),\n",
       " Row(MAKE='toyota', FUELTYPE='gas', ASPIRE='std', DOORS='two', BODY='hatchback', DRIVE='fwd', CYLINDERS='four', HP=62, RPM=4800, MPG-CITY=31, MPG-HWY=38, PRICE=6338),\n",
       " Row(MAKE='dodge', FUELTYPE='gas', ASPIRE='std', DOORS='two', BODY='hatchback', DRIVE='fwd', CYLINDERS='four', HP=68, RPM=5500, MPG-CITY=31, MPG-HWY=38, PRICE=6377),\n",
       " Row(MAKE='honda', FUELTYPE='gas', ASPIRE='std', DOORS='two', BODY='hatchback', DRIVE='fwd', CYLINDERS='four', HP=58, RPM=4800, MPG-CITY=49, MPG-HWY=54, PRICE=6479),\n",
       " Row(MAKE='toyota', FUELTYPE='gas', ASPIRE='std', DOORS='four', BODY='hatchback', DRIVE='fwd', CYLINDERS='four', HP=62, RPM=4800, MPG-CITY=31, MPG-HWY=38, PRICE=6488),\n",
       " Row(MAKE='honda', FUELTYPE='gas', ASPIRE='std', DOORS='two', BODY='hatchback', DRIVE='fwd', CYLINDERS='four', HP=76, RPM=6000, MPG-CITY=30, MPG-HWY=34, PRICE=6529),\n",
       " Row(MAKE='chevrolet', FUELTYPE='gas', ASPIRE='std', DOORS='four', BODY='sedan', DRIVE='fwd', CYLINDERS='four', HP=70, RPM=5400, MPG-CITY=38, MPG-HWY=43, PRICE=6575),\n",
       " Row(MAKE='nissan', FUELTYPE='gas', ASPIRE='std', DOORS='two', BODY='sedan', DRIVE='fwd', CYLINDERS='four', HP=69, RPM=5200, MPG-CITY=31, MPG-HWY=37, PRICE=6649),\n",
       " Row(MAKE='mitsubishi', FUELTYPE='gas', ASPIRE='std', DOORS='two', BODY='hatchback', DRIVE='fwd', CYLINDERS='four', HP=68, RPM=5500, MPG-CITY=31, MPG-HWY=38, PRICE=6669),\n",
       " Row(MAKE='dodge', FUELTYPE='gas', ASPIRE='std', DOORS='four', BODY='sedan', DRIVE='fwd', CYLINDERS='four', HP=68, RPM=5500, MPG-CITY=31, MPG-HWY=38, PRICE=6692),\n",
       " Row(MAKE='plymouth', FUELTYPE='gas', ASPIRE='std', DOORS='four', BODY='sedan', DRIVE='fwd', CYLINDERS='four', HP=68, RPM=5500, MPG-CITY=31, MPG-HWY=38, PRICE=6692),\n",
       " Row(MAKE='mazda', FUELTYPE='gas', ASPIRE='std', DOORS='four', BODY='sedan', DRIVE='fwd', CYLINDERS='four', HP=68, RPM=5000, MPG-CITY=31, MPG-HWY=38, PRICE=6695),\n",
       " Row(MAKE='isuzu', FUELTYPE='gas', ASPIRE='std', DOORS='four', BODY='sedan', DRIVE='rwd', CYLINDERS='four', HP=78, RPM=4800, MPG-CITY=24, MPG-HWY=29, PRICE=6785),\n",
       " Row(MAKE='mazda', FUELTYPE='gas', ASPIRE='std', DOORS='two', BODY='hatchback', DRIVE='fwd', CYLINDERS='four', HP=68, RPM=5000, MPG-CITY=31, MPG-HWY=38, PRICE=6795),\n",
       " Row(MAKE='nissan', FUELTYPE='gas', ASPIRE='std', DOORS='four', BODY='sedan', DRIVE='fwd', CYLINDERS='four', HP=69, RPM=5200, MPG-CITY=31, MPG-HWY=37, PRICE=6849),\n",
       " Row(MAKE='honda', FUELTYPE='gas', ASPIRE='std', DOORS='two', BODY='hatchback', DRIVE='fwd', CYLINDERS='four', HP=76, RPM=6000, MPG-CITY=31, MPG-HWY=38, PRICE=6855),\n",
       " Row(MAKE='toyota', FUELTYPE='gas', ASPIRE='std', DOORS='four', BODY='wagon', DRIVE='fwd', CYLINDERS='four', HP=62, RPM=4800, MPG-CITY=31, MPG-HWY=37, PRICE=6918),\n",
       " Row(MAKE='toyota', FUELTYPE='gas', ASPIRE='std', DOORS='four', BODY='sedan', DRIVE='fwd', CYLINDERS='four', HP=70, RPM=4800, MPG-CITY=30, MPG-HWY=37, PRICE=6938),\n",
       " Row(MAKE='mitsubishi', FUELTYPE='gas', ASPIRE='std', DOORS='four', BODY='sedan', DRIVE='fwd', CYLINDERS='four', HP=88, RPM=5000, MPG-CITY=25, MPG-HWY=32, PRICE=6989),\n",
       " Row(MAKE='subaru', FUELTYPE='gas', ASPIRE='std', DOORS='two', BODY='hatchback', DRIVE='fwd', CYLINDERS='four', HP=73, RPM=4400, MPG-CITY=26, MPG-HWY=31, PRICE=7053),\n",
       " Row(MAKE='nissan', FUELTYPE='diesel', ASPIRE='std', DOORS='two', BODY='sedan', DRIVE='fwd', CYLINDERS='four', HP=55, RPM=4800, MPG-CITY=45, MPG-HWY=50, PRICE=7099),\n",
       " Row(MAKE='subaru', FUELTYPE='gas', ASPIRE='std', DOORS='four', BODY='sedan', DRIVE='fwd', CYLINDERS='four', HP=82, RPM=4800, MPG-CITY=32, MPG-HWY=37, PRICE=7126),\n",
       " Row(MAKE='honda', FUELTYPE='gas', ASPIRE='std', DOORS='two', BODY='hatchback', DRIVE='fwd', CYLINDERS='four', HP=76, RPM=6000, MPG-CITY=30, MPG-HWY=34, PRICE=7129),\n",
       " Row(MAKE='toyota', FUELTYPE='gas', ASPIRE='std', DOORS='four', BODY='hatchback', DRIVE='fwd', CYLINDERS='four', HP=70, RPM=4800, MPG-CITY=30, MPG-HWY=37, PRICE=7198),\n",
       " Row(MAKE='honda', FUELTYPE='gas', ASPIRE='std', DOORS='four', BODY='sedan', DRIVE='fwd', CYLINDERS='four', HP=76, RPM=6000, MPG-CITY=30, MPG-HWY=34, PRICE=7295),\n",
       " Row(MAKE='honda', FUELTYPE='gas', ASPIRE='std', DOORS='four', BODY='wagon', DRIVE='fwd', CYLINDERS='four', HP=76, RPM=6000, MPG-CITY=30, MPG-HWY=34, PRICE=7295),\n",
       " Row(MAKE='nissan', FUELTYPE='gas', ASPIRE='std', DOORS='two', BODY='sedan', DRIVE='fwd', CYLINDERS='four', HP=69, RPM=5200, MPG-CITY=31, MPG-HWY=37, PRICE=7299),\n",
       " Row(MAKE='nissan', FUELTYPE='gas', ASPIRE='std', DOORS='four', BODY='wagon', DRIVE='fwd', CYLINDERS='four', HP=69, RPM=5200, MPG-CITY=31, MPG-HWY=37, PRICE=7349),\n",
       " Row(MAKE='mazda', FUELTYPE='gas', ASPIRE='std', DOORS='four', BODY='sedan', DRIVE='fwd', CYLINDERS='four', HP=68, RPM=5000, MPG-CITY=31, MPG-HWY=38, PRICE=7395),\n",
       " Row(MAKE='subaru', FUELTYPE='gas', ASPIRE='std', DOORS='four', BODY='wagon', DRIVE='fwd', CYLINDERS='four', HP=82, RPM=4800, MPG-CITY=28, MPG-HWY=32, PRICE=7463),\n",
       " Row(MAKE='nissan', FUELTYPE='gas', ASPIRE='std', DOORS='four', BODY='sedan', DRIVE='fwd', CYLINDERS='four', HP=69, RPM=5200, MPG-CITY=31, MPG-HWY=37, PRICE=7499),\n",
       " Row(MAKE='subaru', FUELTYPE='gas', ASPIRE='std', DOORS='two', BODY='hatchback', DRIVE='4wd', CYLINDERS='four', HP=73, RPM=4400, MPG-CITY=26, MPG-HWY=31, PRICE=7603),\n",
       " Row(MAKE='dodge', FUELTYPE='gas', ASPIRE='std', DOORS='four', BODY='sedan', DRIVE='fwd', CYLINDERS='four', HP=68, RPM=5500, MPG-CITY=31, MPG-HWY=38, PRICE=7609),\n",
       " Row(MAKE='plymouth', FUELTYPE='gas', ASPIRE='std', DOORS='four', BODY='sedan', DRIVE='fwd', CYLINDERS='four', HP=68, RPM=5500, MPG-CITY=31, MPG-HWY=38, PRICE=7609),\n",
       " Row(MAKE='mitsubishi', FUELTYPE='gas', ASPIRE='turbo', DOORS='two', BODY='hatchback', DRIVE='fwd', CYLINDERS='four', HP=102, RPM=5500, MPG-CITY=24, MPG-HWY=30, PRICE=7689),\n",
       " Row(MAKE='toyota', FUELTYPE='gas', ASPIRE='std', DOORS='four', BODY='sedan', DRIVE='fwd', CYLINDERS='four', HP=70, RPM=4800, MPG-CITY=38, MPG-HWY=47, PRICE=7738),\n",
       " Row(MAKE='subaru', FUELTYPE='gas', ASPIRE='std', DOORS='four', BODY='sedan', DRIVE='fwd', CYLINDERS='four', HP=82, RPM=4400, MPG-CITY=28, MPG-HWY=33, PRICE=7775),\n",
       " Row(MAKE='volkswagen', FUELTYPE='diesel', ASPIRE='std', DOORS='two', BODY='sedan', DRIVE='fwd', CYLINDERS='four', HP=52, RPM=4800, MPG-CITY=37, MPG-HWY=46, PRICE=7775),\n",
       " Row(MAKE='toyota', FUELTYPE='diesel', ASPIRE='std', DOORS='four', BODY='hatchback', DRIVE='fwd', CYLINDERS='four', HP=56, RPM=4500, MPG-CITY=38, MPG-HWY=47, PRICE=7788),\n",
       " Row(MAKE='nissan', FUELTYPE='gas', ASPIRE='std', DOORS='two', BODY='hatchback', DRIVE='fwd', CYLINDERS='four', HP=69, RPM=5200, MPG-CITY=31, MPG-HWY=37, PRICE=7799),\n",
       " Row(MAKE='honda', FUELTYPE='gas', ASPIRE='std', DOORS='two', BODY='hatchback', DRIVE='fwd', CYLINDERS='four', HP=86, RPM=5800, MPG-CITY=27, MPG-HWY=33, PRICE=7895),\n",
       " Row(MAKE='toyota', FUELTYPE='gas', ASPIRE='std', DOORS='four', BODY='wagon', DRIVE='4wd', CYLINDERS='four', HP=62, RPM=4800, MPG-CITY=27, MPG-HWY=32, PRICE=7898),\n",
       " Row(MAKE='toyota', FUELTYPE='diesel', ASPIRE='std', DOORS='four', BODY='sedan', DRIVE='fwd', CYLINDERS='four', HP=56, RPM=4500, MPG-CITY=34, MPG-HWY=36, PRICE=7898),\n",
       " Row(MAKE='dodge', FUELTYPE='gas', ASPIRE='turbo', DOORS='two', BODY='hatchback', DRIVE='fwd', CYLINDERS='four', HP=102, RPM=5500, MPG-CITY=24, MPG-HWY=30, PRICE=7957),\n",
       " Row(MAKE='plymouth', FUELTYPE='gas', ASPIRE='turbo', DOORS='two', BODY='hatchback', DRIVE='fwd', CYLINDERS='four', HP=102, RPM=5500, MPG-CITY=24, MPG-HWY=30, PRICE=7957),\n",
       " Row(MAKE='volkswagen', FUELTYPE='gas', ASPIRE='std', DOORS='two', BODY='sedan', DRIVE='fwd', CYLINDERS='four', HP=85, RPM=5250, MPG-CITY=27, MPG-HWY=34, PRICE=7975),\n",
       " Row(MAKE='volkswagen', FUELTYPE='diesel', ASPIRE='std', DOORS='four', BODY='sedan', DRIVE='fwd', CYLINDERS='four', HP=52, RPM=4800, MPG-CITY=37, MPG-HWY=46, PRICE=7995),\n",
       " Row(MAKE='nissan', FUELTYPE='gas', ASPIRE='std', DOORS='four', BODY='wagon', DRIVE='fwd', CYLINDERS='four', HP=69, RPM=5200, MPG-CITY=31, MPG-HWY=37, PRICE=7999),\n",
       " Row(MAKE='subaru', FUELTYPE='gas', ASPIRE='std', DOORS='four', BODY='wagon', DRIVE='4wd', CYLINDERS='four', HP=82, RPM=4800, MPG-CITY=23, MPG-HWY=29, PRICE=8013),\n",
       " Row(MAKE='toyota', FUELTYPE='gas', ASPIRE='std', DOORS='two', BODY='sedan', DRIVE='rwd', CYLINDERS='four', HP=70, RPM=4800, MPG-CITY=29, MPG-HWY=34, PRICE=8058),\n",
       " Row(MAKE='mitsubishi', FUELTYPE='gas', ASPIRE='std', DOORS='four', BODY='sedan', DRIVE='fwd', CYLINDERS='four', HP=88, RPM=5000, MPG-CITY=25, MPG-HWY=32, PRICE=8189),\n",
       " Row(MAKE='volkswagen', FUELTYPE='gas', ASPIRE='std', DOORS='four', BODY='sedan', DRIVE='fwd', CYLINDERS='four', HP=85, RPM=5250, MPG-CITY=27, MPG-HWY=34, PRICE=8195),\n",
       " Row(MAKE='toyota', FUELTYPE='gas', ASPIRE='std', DOORS='two', BODY='hatchback', DRIVE='rwd', CYLINDERS='four', HP=70, RPM=4800, MPG-CITY=29, MPG-HWY=34, PRICE=8238),\n",
       " Row(MAKE='nissan', FUELTYPE='gas', ASPIRE='std', DOORS='two', BODY='hardtop', DRIVE='fwd', CYLINDERS='four', HP=69, RPM=5200, MPG-CITY=31, MPG-HWY=37, PRICE=8249),\n",
       " Row(MAKE='toyota', FUELTYPE='gas', ASPIRE='std', DOORS='four', BODY='hatchback', DRIVE='fwd', CYLINDERS='four', HP=70, RPM=4800, MPG-CITY=28, MPG-HWY=34, PRICE=8358),\n",
       " Row(MAKE='toyota', FUELTYPE='gas', ASPIRE='std', DOORS='two', BODY='hardtop', DRIVE='rwd', CYLINDERS='four', HP=116, RPM=4800, MPG-CITY=24, MPG-HWY=30, PRICE=8449),\n",
       " Row(MAKE='mazda', FUELTYPE='gas', ASPIRE='std', DOORS='four', BODY='sedan', DRIVE='fwd', CYLINDERS='four', HP=84, RPM=4800, MPG-CITY=26, MPG-HWY=32, PRICE=8495),\n",
       " Row(MAKE='volkswagen', FUELTYPE='gas', ASPIRE='std', DOORS='four', BODY='sedan', DRIVE='fwd', CYLINDERS='four', HP=85, RPM=5250, MPG-CITY=27, MPG-HWY=34, PRICE=8495),\n",
       " Row(MAKE='mitsubishi', FUELTYPE='gas', ASPIRE='std', DOORS='two', BODY='hatchback', DRIVE='fwd', CYLINDERS='four', HP=88, RPM=5000, MPG-CITY=25, MPG-HWY=32, PRICE=8499),\n",
       " Row(MAKE='toyota', FUELTYPE='gas', ASPIRE='std', DOORS='four', BODY='wagon', DRIVE='4wd', CYLINDERS='four', HP=62, RPM=4800, MPG-CITY=27, MPG-HWY=32, PRICE=8778),\n",
       " Row(MAKE='honda', FUELTYPE='gas', ASPIRE='std', DOORS='four', BODY='sedan', DRIVE='fwd', CYLINDERS='four', HP=86, RPM=5800, MPG-CITY=27, MPG-HWY=33, PRICE=8845),\n",
       " Row(MAKE='mazda', FUELTYPE='gas', ASPIRE='std', DOORS='two', BODY='hatchback', DRIVE='fwd', CYLINDERS='four', HP=84, RPM=4800, MPG-CITY=26, MPG-HWY=32, PRICE=8845),\n",
       " Row(MAKE='dodge', FUELTYPE='gas', ASPIRE='std', DOORS='four', BODY='wagon', DRIVE='fwd', CYLINDERS='four', HP=88, RPM=5000, MPG-CITY=24, MPG-HWY=30, PRICE=8921),\n",
       " Row(MAKE='plymouth', FUELTYPE='gas', ASPIRE='std', DOORS='four', BODY='wagon', DRIVE='fwd', CYLINDERS='four', HP=88, RPM=5000, MPG-CITY=24, MPG-HWY=30, PRICE=8921),\n",
       " Row(MAKE='toyota', FUELTYPE='gas', ASPIRE='std', DOORS='four', BODY='sedan', DRIVE='fwd', CYLINDERS='four', HP=92, RPM=4200, MPG-CITY=29, MPG-HWY=34, PRICE=8948),\n",
       " Row(MAKE='nissan', FUELTYPE='gas', ASPIRE='std', DOORS='four', BODY='hatchback', DRIVE='fwd', CYLINDERS='four', HP=97, RPM=5200, MPG-CITY=27, MPG-HWY=34, PRICE=8949),\n",
       " Row(MAKE='honda', FUELTYPE='gas', ASPIRE='std', DOORS='two', BODY='hatchback', DRIVE='fwd', CYLINDERS='four', HP=86, RPM=5800, MPG-CITY=27, MPG-HWY=33, PRICE=9095),\n",
       " Row(MAKE='subaru', FUELTYPE='gas', ASPIRE='std', DOORS='four', BODY='sedan', DRIVE='4wd', CYLINDERS='four', HP=82, RPM=4800, MPG-CITY=24, MPG-HWY=25, PRICE=9233),\n",
       " Row(MAKE='toyota', FUELTYPE='gas', ASPIRE='std', DOORS='four', BODY='sedan', DRIVE='fwd', CYLINDERS='four', HP=70, RPM=4800, MPG-CITY=28, MPG-HWY=34, PRICE=9258),\n",
       " Row(MAKE='mitsubishi', FUELTYPE='gas', ASPIRE='turbo', DOORS='four', BODY='sedan', DRIVE='fwd', CYLINDERS='four', HP=116, RPM=5500, MPG-CITY=23, MPG-HWY=30, PRICE=9279),\n",
       " Row(MAKE='mitsubishi', FUELTYPE='gas', ASPIRE='std', DOORS='four', BODY='sedan', DRIVE='fwd', CYLINDERS='four', HP=116, RPM=5500, MPG-CITY=23, MPG-HWY=30, PRICE=9279),\n",
       " Row(MAKE='toyota', FUELTYPE='gas', ASPIRE='std', DOORS='two', BODY='sedan', DRIVE='rwd', CYLINDERS='four', HP=112, RPM=6600, MPG-CITY=26, MPG-HWY=29, PRICE=9298),\n",
       " Row(MAKE='volkswagen', FUELTYPE='diesel', ASPIRE='turbo', DOORS='four', BODY='sedan', DRIVE='fwd', CYLINDERS='four', HP=68, RPM=4500, MPG-CITY=37, MPG-HWY=42, PRICE=9495),\n",
       " Row(MAKE='toyota', FUELTYPE='gas', ASPIRE='std', DOORS='two', BODY='hatchback', DRIVE='rwd', CYLINDERS='four', HP=112, RPM=6600, MPG-CITY=26, MPG-HWY=29, PRICE=9538),\n",
       " Row(MAKE='nissan', FUELTYPE='gas', ASPIRE='std', DOORS='four', BODY='sedan', DRIVE='fwd', CYLINDERS='four', HP=97, RPM=5200, MPG-CITY=27, MPG-HWY=34, PRICE=9549),\n",
       " Row(MAKE='toyota', FUELTYPE='gas', ASPIRE='std', DOORS='two', BODY='hardtop', DRIVE='rwd', CYLINDERS='four', HP=116, RPM=4800, MPG-CITY=24, MPG-HWY=30, PRICE=9639),\n",
       " Row(MAKE='mitsubishi', FUELTYPE='gas', ASPIRE='turbo', DOORS='two', BODY='hatchback', DRIVE='fwd', CYLINDERS='four', HP=116, RPM=5500, MPG-CITY=23, MPG-HWY=30, PRICE=9959),\n",
       " Row(MAKE='subaru', FUELTYPE='gas', ASPIRE='std', DOORS='four', BODY='sedan', DRIVE='fwd', CYLINDERS='four', HP=94, RPM=5200, MPG-CITY=26, MPG-HWY=32, PRICE=9960),\n",
       " Row(MAKE='volkswagen', FUELTYPE='gas', ASPIRE='std', DOORS='two', BODY='hatchback', DRIVE='fwd', CYLINDERS='four', HP=90, RPM=5500, MPG-CITY=24, MPG-HWY=29, PRICE=9980),\n",
       " Row(MAKE='toyota', FUELTYPE='gas', ASPIRE='std', DOORS='four', BODY='hatchback', DRIVE='fwd', CYLINDERS='four', HP=92, RPM=4200, MPG-CITY=27, MPG-HWY=32, PRICE=9988),\n",
       " Row(MAKE='toyota', FUELTYPE='gas', ASPIRE='std', DOORS='two', BODY='hatchback', DRIVE='rwd', CYLINDERS='four', HP=116, RPM=4800, MPG-CITY=24, MPG-HWY=30, PRICE=9989),\n",
       " Row(MAKE='volkswagen', FUELTYPE='gas', ASPIRE='std', DOORS='four', BODY='sedan', DRIVE='fwd', CYLINDERS='four', HP=100, RPM=5500, MPG-CITY=26, MPG-HWY=32, PRICE=9995),\n",
       " Row(MAKE='subaru', FUELTYPE='gas', ASPIRE='std', DOORS='four', BODY='wagon', DRIVE='fwd', CYLINDERS='four', HP=94, RPM=5200, MPG-CITY=25, MPG-HWY=31, PRICE=10198),\n",
       " Row(MAKE='mazda', FUELTYPE='gas', ASPIRE='std', DOORS='four', BODY='sedan', DRIVE='fwd', CYLINDERS='four', HP=84, RPM=4800, MPG-CITY=26, MPG-HWY=32, PRICE=10245),\n",
       " Row(MAKE='honda', FUELTYPE='gas', ASPIRE='std', DOORS='four', BODY='sedan', DRIVE='fwd', CYLINDERS='four', HP=86, RPM=5800, MPG-CITY=27, MPG-HWY=33, PRICE=10295),\n",
       " Row(MAKE='honda', FUELTYPE='gas', ASPIRE='std', DOORS='two', BODY='sedan', DRIVE='fwd', CYLINDERS='four', HP=100, RPM=5500, MPG-CITY=25, MPG-HWY=31, PRICE=10345),\n",
       " Row(MAKE='mazda', FUELTYPE='gas', ASPIRE='std', DOORS='two', BODY='hatchback', DRIVE='fwd', CYLINDERS='four', HP=84, RPM=4800, MPG-CITY=26, MPG-HWY=32, PRICE=10595),\n",
       " Row(MAKE='toyota', FUELTYPE='diesel', ASPIRE='turbo', DOORS='four', BODY='sedan', DRIVE='fwd', CYLINDERS='four', HP=73, RPM=4500, MPG-CITY=30, MPG-HWY=33, PRICE=10698),\n",
       " Row(MAKE='toyota', FUELTYPE='gas', ASPIRE='std', DOORS='four', BODY='sedan', DRIVE='fwd', CYLINDERS='four', HP=92, RPM=4200, MPG-CITY=27, MPG-HWY=32, PRICE=10898),\n",
       " Row(MAKE='mazda', FUELTYPE='gas', ASPIRE='std', DOORS='two', BODY='hatchback', DRIVE='rwd', CYLINDERS='two', HP=101, RPM=6000, MPG-CITY=17, MPG-HWY=23, PRICE=10945),\n",
       " Row(MAKE='isuzu', FUELTYPE='gas', ASPIRE='std', DOORS='two', BODY='hatchback', DRIVE='rwd', CYLINDERS='four', HP=90, RPM=5000, MPG-CITY=24, MPG-HWY=29, PRICE=11048),\n",
       " Row(MAKE='toyota', FUELTYPE='gas', ASPIRE='std', DOORS='two', BODY='hardtop', DRIVE='rwd', CYLINDERS='four', HP=116, RPM=4800, MPG-CITY=24, MPG-HWY=30, PRICE=11199),\n",
       " Row(MAKE='mazda', FUELTYPE='gas', ASPIRE='std', DOORS='four', BODY='hatchback', DRIVE='fwd', CYLINDERS='four', HP=84, RPM=4800, MPG-CITY=26, MPG-HWY=32, PRICE=11245),\n",
       " Row(MAKE='toyota', FUELTYPE='gas', ASPIRE='std', DOORS='four', BODY='hatchback', DRIVE='fwd', CYLINDERS='four', HP=92, RPM=4200, MPG-CITY=27, MPG-HWY=32, PRICE=11248),\n",
       " Row(MAKE='subaru', FUELTYPE='gas', ASPIRE='turbo', DOORS='four', BODY='sedan', DRIVE='4wd', CYLINDERS='four', HP=111, RPM=4800, MPG-CITY=24, MPG-HWY=29, PRICE=11259),\n",
       " Row(MAKE='toyota', FUELTYPE='gas', ASPIRE='std', DOORS='two', BODY='hatchback', DRIVE='rwd', CYLINDERS='four', HP=116, RPM=4800, MPG-CITY=24, MPG-HWY=30, PRICE=11549),\n",
       " Row(MAKE='volkswagen', FUELTYPE='gas', ASPIRE='std', DOORS='two', BODY='convertible', DRIVE='fwd', CYLINDERS='four', HP=90, RPM=5500, MPG-CITY=24, MPG-HWY=29, PRICE=11595),\n",
       " Row(MAKE='subaru', FUELTYPE='gas', ASPIRE='turbo', DOORS='four', BODY='wagon', DRIVE='4wd', CYLINDERS='four', HP=111, RPM=4800, MPG-CITY=23, MPG-HWY=23, PRICE=11694),\n",
       " Row(MAKE='mazda', FUELTYPE='gas', ASPIRE='std', DOORS='two', BODY='hatchback', DRIVE='rwd', CYLINDERS='two', HP=101, RPM=6000, MPG-CITY=17, MPG-HWY=23, PRICE=11845),\n",
       " Row(MAKE='saab', FUELTYPE='gas', ASPIRE='std', DOORS='two', BODY='hatchback', DRIVE='fwd', CYLINDERS='four', HP=110, RPM=5250, MPG-CITY=21, MPG-HWY=28, PRICE=11850),\n",
       " Row(MAKE='peugot', FUELTYPE='gas', ASPIRE='std', DOORS='four', BODY='sedan', DRIVE='rwd', CYLINDERS='four', HP=97, RPM=5000, MPG-CITY=19, MPG-HWY=24, PRICE=11900),\n",
       " Row(MAKE='saab', FUELTYPE='gas', ASPIRE='std', DOORS='four', BODY='sedan', DRIVE='fwd', CYLINDERS='four', HP=110, RPM=5250, MPG-CITY=21, MPG-HWY=28, PRICE=12170),\n",
       " Row(MAKE='volkswagen', FUELTYPE='gas', ASPIRE='std', DOORS='four', BODY='wagon', DRIVE='fwd', CYLINDERS='four', HP=88, RPM=5500, MPG-CITY=25, MPG-HWY=31, PRICE=12290),\n",
       " Row(MAKE='peugot', FUELTYPE='gas', ASPIRE='std', DOORS='four', BODY='wagon', DRIVE='rwd', CYLINDERS='four', HP=97, RPM=5000, MPG-CITY=19, MPG-HWY=24, PRICE=12440),\n",
       " Row(MAKE='mitsubishi', FUELTYPE='gas', ASPIRE='turbo', DOORS='two', BODY='hatchback', DRIVE='fwd', CYLINDERS='four', HP=145, RPM=5000, MPG-CITY=19, MPG-HWY=24, PRICE=12629),\n",
       " Row(MAKE='plymouth', FUELTYPE='gas', ASPIRE='turbo', DOORS='two', BODY='hatchback', DRIVE='rwd', CYLINDERS='four', HP=145, RPM=5000, MPG-CITY=19, MPG-HWY=24, PRICE=12764),\n",
       " Row(MAKE='volvo', FUELTYPE='gas', ASPIRE='std', DOORS='four', BODY='sedan', DRIVE='rwd', CYLINDERS='four', HP=114, RPM=5400, MPG-CITY=23, MPG-HWY=28, PRICE=12940),\n",
       " Row(MAKE='honda', FUELTYPE='gas', ASPIRE='std', DOORS='four', BODY='sedan', DRIVE='fwd', CYLINDERS='four', HP=101, RPM=5800, MPG-CITY=24, MPG-HWY=28, PRICE=12945),\n",
       " Row(MAKE='dodge', FUELTYPE='gas', ASPIRE='turbo', DOORS='two', BODY='hatchback', DRIVE='fwd', CYLINDERS='four', HP=145, RPM=5000, MPG-CITY=19, MPG-HWY=24, PRICE=12964),\n",
       " Row(MAKE='peugot', FUELTYPE='diesel', ASPIRE='turbo', DOORS='four', BODY='sedan', DRIVE='rwd', CYLINDERS='four', HP=95, RPM=4150, MPG-CITY=28, MPG-HWY=33, PRICE=13200),\n",
       " Row(MAKE='volkswagen', FUELTYPE='gas', ASPIRE='std', DOORS='four', BODY='sedan', DRIVE='fwd', CYLINDERS='five', HP=110, RPM=5500, MPG-CITY=19, MPG-HWY=24, PRICE=13295),\n",
       " Row(MAKE='volvo', FUELTYPE='gas', ASPIRE='std', DOORS='four', BODY='wagon', DRIVE='rwd', CYLINDERS='four', HP=114, RPM=5400, MPG-CITY=23, MPG-HWY=28, PRICE=13415),\n",
       " Row(MAKE='alfa-romero', FUELTYPE='gas', ASPIRE='std', DOORS='two', BODY='convertible', DRIVE='rwd', CYLINDERS='four', HP=111, RPM=5000, MPG-CITY=21, MPG-HWY=27, PRICE=13495),\n",
       " Row(MAKE='nissan', FUELTYPE='gas', ASPIRE='std', DOORS='four', BODY='sedan', DRIVE='fwd', CYLINDERS='six', HP=152, RPM=5200, MPG-CITY=17, MPG-HWY=22, PRICE=13499),\n",
       " Row(MAKE='nissan', FUELTYPE='gas', ASPIRE='std', DOORS='four', BODY='sedan', DRIVE='fwd', CYLINDERS='six', HP=152, RPM=5200, MPG-CITY=19, MPG-HWY=25, PRICE=13499),\n",
       " Row(MAKE='mazda', FUELTYPE='gas', ASPIRE='std', DOORS='two', BODY='hatchback', DRIVE='rwd', CYLINDERS='two', HP=101, RPM=6000, MPG-CITY=17, MPG-HWY=23, PRICE=13645),\n",
       " Row(MAKE='volkswagen', FUELTYPE='diesel', ASPIRE='turbo', DOORS='four', BODY='sedan', DRIVE='fwd', CYLINDERS='four', HP=68, RPM=4500, MPG-CITY=33, MPG-HWY=38, PRICE=13845),\n",
       " Row(MAKE='peugot', FUELTYPE='diesel', ASPIRE='turbo', DOORS='four', BODY='wagon', DRIVE='rwd', CYLINDERS='four', HP=95, RPM=4150, MPG-CITY=25, MPG-HWY=25, PRICE=13860),\n",
       " Row(MAKE='audi', FUELTYPE='gas', ASPIRE='std', DOORS='four', BODY='sedan', DRIVE='fwd', CYLINDERS='four', HP=102, RPM=5500, MPG-CITY=24, MPG-HWY=30, PRICE=13950),\n",
       " Row(MAKE='nissan', FUELTYPE='gas', ASPIRE='std', DOORS='four', BODY='wagon', DRIVE='fwd', CYLINDERS='six', HP=152, RPM=5200, MPG-CITY=17, MPG-HWY=22, PRICE=14399),\n",
       " Row(MAKE='mitsubishi', FUELTYPE='gas', ASPIRE='turbo', DOORS='two', BODY='hatchback', DRIVE='fwd', CYLINDERS='four', HP=145, RPM=5000, MPG-CITY=19, MPG-HWY=24, PRICE=14489),\n",
       " Row(MAKE='mitsubishi', FUELTYPE='gas', ASPIRE='turbo', DOORS='two', BODY='hatchback', DRIVE='fwd', CYLINDERS='four', HP=145, RPM=5000, MPG-CITY=19, MPG-HWY=24, PRICE=14869),\n",
       " Row(MAKE='saab', FUELTYPE='gas', ASPIRE='std', DOORS='two', BODY='hatchback', DRIVE='fwd', CYLINDERS='four', HP=110, RPM=5250, MPG-CITY=21, MPG-HWY=28, PRICE=15040),\n",
       " Row(MAKE='audi', FUELTYPE='gas', ASPIRE='std', DOORS='two', BODY='sedan', DRIVE='fwd', CYLINDERS='five', HP=110, RPM=5500, MPG-CITY=19, MPG-HWY=25, PRICE=15250),\n",
       " Row(MAKE='saab', FUELTYPE='gas', ASPIRE='std', DOORS='four', BODY='sedan', DRIVE='fwd', CYLINDERS='four', HP=110, RPM=5250, MPG-CITY=21, MPG-HWY=28, PRICE=15510),\n",
       " Row(MAKE='peugot', FUELTYPE='gas', ASPIRE='std', DOORS='four', BODY='sedan', DRIVE='rwd', CYLINDERS='four', HP=95, RPM=5000, MPG-CITY=19, MPG-HWY=24, PRICE=15580),\n",
       " Row(MAKE='mazda', FUELTYPE='gas', ASPIRE='std', DOORS='two', BODY='hatchback', DRIVE='rwd', CYLINDERS='two', HP=135, RPM=6000, MPG-CITY=16, MPG-HWY=23, PRICE=15645),\n",
       " Row(MAKE='toyota', FUELTYPE='gas', ASPIRE='std', DOORS='four', BODY='sedan', DRIVE='rwd', CYLINDERS='six', HP=156, RPM=5200, MPG-CITY=20, MPG-HWY=24, PRICE=15690),\n",
       " Row(MAKE='toyota', FUELTYPE='gas', ASPIRE='std', DOORS='four', BODY='wagon', DRIVE='rwd', CYLINDERS='six', HP=156, RPM=5200, MPG-CITY=19, MPG-HWY=24, PRICE=15750),\n",
       " Row(MAKE='volvo', FUELTYPE='gas', ASPIRE='std', DOORS='four', BODY='sedan', DRIVE='rwd', CYLINDERS='four', HP=114, RPM=5400, MPG-CITY=24, MPG-HWY=28, PRICE=15985),\n",
       " Row(MAKE='toyota', FUELTYPE='gas', ASPIRE='std', DOORS='two', BODY='hatchback', DRIVE='rwd', CYLINDERS='six', HP=161, RPM=5200, MPG-CITY=19, MPG-HWY=24, PRICE=15998),\n",
       " Row(MAKE='bmw', FUELTYPE='gas', ASPIRE='std', DOORS='two', BODY='sedan', DRIVE='rwd', CYLINDERS='four', HP=101, RPM=5800, MPG-CITY=23, MPG-HWY=29, PRICE=16430),\n",
       " Row(MAKE='alfa-romero', FUELTYPE='gas', ASPIRE='std', DOORS='two', BODY='convertible', DRIVE='rwd', CYLINDERS='four', HP=111, RPM=5000, MPG-CITY=21, MPG-HWY=27, PRICE=16500),\n",
       " Row(MAKE='alfa-romero', FUELTYPE='gas', ASPIRE='std', DOORS='two', BODY='hatchback', DRIVE='rwd', CYLINDERS='six', HP=154, RPM=5000, MPG-CITY=19, MPG-HWY=26, PRICE=16500),\n",
       " Row(MAKE='mercury', FUELTYPE='gas', ASPIRE='turbo', DOORS='two', BODY='hatchback', DRIVE='rwd', CYLINDERS='four', HP=175, RPM=5000, MPG-CITY=19, MPG-HWY=24, PRICE=16503),\n",
       " Row(MAKE='volvo', FUELTYPE='gas', ASPIRE='std', DOORS='four', BODY='wagon', DRIVE='rwd', CYLINDERS='four', HP=114, RPM=5400, MPG-CITY=24, MPG-HWY=28, PRICE=16515),\n",
       " Row(MAKE='toyota', FUELTYPE='gas', ASPIRE='std', DOORS='two', BODY='hatchback', DRIVE='rwd', CYLINDERS='six', HP=161, RPM=5200, MPG-CITY=20, MPG-HWY=24, PRICE=16558),\n",
       " Row(MAKE='peugot', FUELTYPE='gas', ASPIRE='std', DOORS='four', BODY='sedan', DRIVE='rwd', CYLINDERS='four', HP=97, RPM=5000, MPG-CITY=19, MPG-HWY=24, PRICE=16630),\n",
       " Row(MAKE='peugot', FUELTYPE='gas', ASPIRE='std', DOORS='four', BODY='wagon', DRIVE='rwd', CYLINDERS='four', HP=95, RPM=5000, MPG-CITY=19, MPG-HWY=24, PRICE=16695),\n",
       " Row(MAKE='volvo', FUELTYPE='gas', ASPIRE='std', DOORS='four', BODY='sedan', DRIVE='rwd', CYLINDERS='four', HP=114, RPM=5400, MPG-CITY=23, MPG-HWY=28, PRICE=16845),\n",
       " Row(MAKE='peugot', FUELTYPE='diesel', ASPIRE='turbo', DOORS='four', BODY='sedan', DRIVE='rwd', CYLINDERS='four', HP=95, RPM=4150, MPG-CITY=28, MPG-HWY=33, PRICE=16900),\n",
       " Row(MAKE='bmw', FUELTYPE='gas', ASPIRE='std', DOORS='four', BODY='sedan', DRIVE='rwd', CYLINDERS='four', HP=101, RPM=5800, MPG-CITY=23, MPG-HWY=29, PRICE=16925),\n",
       " Row(MAKE='peugot', FUELTYPE='diesel', ASPIRE='turbo', DOORS='four', BODY='wagon', DRIVE='rwd', CYLINDERS='four', HP=95, RPM=4150, MPG-CITY=25, MPG-HWY=25, PRICE=17075),\n",
       " Row(MAKE='nissan', FUELTYPE='gas', ASPIRE='std', DOORS='two', BODY='hatchback', DRIVE='rwd', CYLINDERS='six', HP=160, RPM=5200, MPG-CITY=19, MPG-HWY=25, PRICE=17199),\n",
       " Row(MAKE='audi', FUELTYPE='gas', ASPIRE='std', DOORS='four', BODY='sedan', DRIVE='4wd', CYLINDERS='five', HP=115, RPM=5500, MPG-CITY=18, MPG-HWY=22, PRICE=17450),\n",
       " Row(MAKE='toyota', FUELTYPE='gas', ASPIRE='std', DOORS='two', BODY='convertible', DRIVE='rwd', CYLINDERS='four', HP=116, RPM=4800, MPG-CITY=24, MPG-HWY=30, PRICE=17669),\n",
       " Row(MAKE='audi', FUELTYPE='gas', ASPIRE='std', DOORS='four', BODY='sedan', DRIVE='fwd', CYLINDERS='five', HP=110, RPM=5500, MPG-CITY=19, MPG-HWY=25, PRICE=17710),\n",
       " Row(MAKE='peugot', FUELTYPE='diesel', ASPIRE='turbo', DOORS='four', BODY='sedan', DRIVE='rwd', CYLINDERS='four', HP=95, RPM=4150, MPG-CITY=28, MPG-HWY=33, PRICE=17950),\n",
       " Row(MAKE='peugot', FUELTYPE='gas', ASPIRE='turbo', DOORS='four', BODY='sedan', DRIVE='rwd', CYLINDERS='four', HP=142, RPM=5600, MPG-CITY=18, MPG-HWY=24, PRICE=18150),\n",
       " Row(MAKE='saab', FUELTYPE='gas', ASPIRE='turbo', DOORS='two', BODY='hatchback', DRIVE='fwd', CYLINDERS='four', HP=160, RPM=5500, MPG-CITY=19, MPG-HWY=26, PRICE=18150),\n",
       " Row(MAKE='mazda', FUELTYPE='gas', ASPIRE='std', DOORS='four', BODY='sedan', DRIVE='rwd', CYLINDERS='four', HP=120, RPM=5000, MPG-CITY=19, MPG-HWY=27, PRICE=18280),\n",
       " Row(MAKE='mazda', FUELTYPE='diesel', ASPIRE='std', DOORS='four', BODY='sedan', DRIVE='rwd', CYLINDERS='four', HP=72, RPM=4200, MPG-CITY=31, MPG-HWY=39, PRICE=18344),\n",
       " Row(MAKE='nissan', FUELTYPE='gas', ASPIRE='std', DOORS='two', BODY='hatchback', DRIVE='rwd', CYLINDERS='six', HP=160, RPM=5200, MPG-CITY=19, MPG-HWY=25, PRICE=18399),\n",
       " Row(MAKE='volvo', FUELTYPE='gas', ASPIRE='turbo', DOORS='four', BODY='sedan', DRIVE='rwd', CYLINDERS='four', HP=162, RPM=5100, MPG-CITY=17, MPG-HWY=22, PRICE=18420),\n",
       " Row(MAKE='saab', FUELTYPE='gas', ASPIRE='turbo', DOORS='four', BODY='sedan', DRIVE='fwd', CYLINDERS='four', HP=160, RPM=5500, MPG-CITY=19, MPG-HWY=26, PRICE=18620),\n",
       " Row(MAKE='audi', FUELTYPE='gas', ASPIRE='std', DOORS='four', BODY='wagon', DRIVE='fwd', CYLINDERS='five', HP=110, RPM=5500, MPG-CITY=19, MPG-HWY=25, PRICE=18920),\n",
       " Row(MAKE='volvo', FUELTYPE='gas', ASPIRE='turbo', DOORS='four', BODY='wagon', DRIVE='rwd', CYLINDERS='four', HP=162, RPM=5100, MPG-CITY=17, MPG-HWY=22, PRICE=18950),\n",
       " Row(MAKE='volvo', FUELTYPE='gas', ASPIRE='turbo', DOORS='four', BODY='sedan', DRIVE='rwd', CYLINDERS='four', HP=160, RPM=5300, MPG-CITY=19, MPG-HWY=25, PRICE=19045),\n",
       " Row(MAKE='nissan', FUELTYPE='gas', ASPIRE='turbo', DOORS='two', BODY='hatchback', DRIVE='rwd', CYLINDERS='six', HP=200, RPM=5200, MPG-CITY=17, MPG-HWY=23, PRICE=19699),\n",
       " Row(MAKE='bmw', FUELTYPE='gas', ASPIRE='std', DOORS='two', BODY='sedan', DRIVE='rwd', CYLINDERS='six', HP=121, RPM=4250, MPG-CITY=21, MPG-HWY=28, PRICE=20970),\n",
       " Row(MAKE='bmw', FUELTYPE='gas', ASPIRE='std', DOORS='four', BODY='sedan', DRIVE='rwd', CYLINDERS='six', HP=121, RPM=4250, MPG-CITY=21, MPG-HWY=28, PRICE=21105),\n",
       " Row(MAKE='volvo', FUELTYPE='gas', ASPIRE='std', DOORS='four', BODY='sedan', DRIVE='rwd', CYLINDERS='six', HP=134, RPM=5500, MPG-CITY=18, MPG-HWY=23, PRICE=21485),\n",
       " Row(MAKE='porsche', FUELTYPE='gas', ASPIRE='std', DOORS='two', BODY='hatchback', DRIVE='rwd', CYLINDERS='four', HP=143, RPM=5500, MPG-CITY=19, MPG-HWY=27, PRICE=22018),\n",
       " Row(MAKE='volvo', FUELTYPE='diesel', ASPIRE='turbo', DOORS='four', BODY='sedan', DRIVE='rwd', CYLINDERS='six', HP=106, RPM=4800, MPG-CITY=26, MPG-HWY=27, PRICE=22470),\n",
       " Row(MAKE='volvo', FUELTYPE='gas', ASPIRE='turbo', DOORS='four', BODY='sedan', DRIVE='rwd', CYLINDERS='four', HP=114, RPM=5400, MPG-CITY=19, MPG-HWY=25, PRICE=22625),\n",
       " Row(MAKE='audi', FUELTYPE='gas', ASPIRE='turbo', DOORS='four', BODY='sedan', DRIVE='fwd', CYLINDERS='five', HP=140, RPM=5500, MPG-CITY=17, MPG-HWY=20, PRICE=23875),\n",
       " Row(MAKE='bmw', FUELTYPE='gas', ASPIRE='std', DOORS='four', BODY='sedan', DRIVE='rwd', CYLINDERS='six', HP=121, RPM=4250, MPG-CITY=20, MPG-HWY=25, PRICE=24565),\n",
       " Row(MAKE='mercedes-benz', FUELTYPE='diesel', ASPIRE='turbo', DOORS='four', BODY='sedan', DRIVE='rwd', CYLINDERS='five', HP=123, RPM=4350, MPG-CITY=22, MPG-HWY=25, PRICE=25552),\n",
       " Row(MAKE='mercedes-benz', FUELTYPE='diesel', ASPIRE='turbo', DOORS='two', BODY='hardtop', DRIVE='rwd', CYLINDERS='five', HP=123, RPM=4350, MPG-CITY=22, MPG-HWY=25, PRICE=28176),\n",
       " Row(MAKE='mercedes-benz', FUELTYPE='diesel', ASPIRE='turbo', DOORS='four', BODY='wagon', DRIVE='rwd', CYLINDERS='five', HP=123, RPM=4350, MPG-CITY=22, MPG-HWY=25, PRICE=28248),\n",
       " Row(MAKE='bmw', FUELTYPE='gas', ASPIRE='std', DOORS='four', BODY='sedan', DRIVE='rwd', CYLINDERS='six', HP=182, RPM=5400, MPG-CITY=16, MPG-HWY=22, PRICE=30760),\n",
       " Row(MAKE='mercedes-benz', FUELTYPE='diesel', ASPIRE='turbo', DOORS='four', BODY='sedan', DRIVE='rwd', CYLINDERS='five', HP=123, RPM=4350, MPG-CITY=22, MPG-HWY=25, PRICE=31600),\n",
       " Row(MAKE='jaguar', FUELTYPE='gas', ASPIRE='std', DOORS='four', BODY='sedan', DRIVE='rwd', CYLINDERS='six', HP=176, RPM=4750, MPG-CITY=15, MPG-HWY=19, PRICE=32250),\n",
       " Row(MAKE='porsche', FUELTYPE='gas', ASPIRE='std', DOORS='two', BODY='hardtop', DRIVE='rwd', CYLINDERS='six', HP=207, RPM=5900, MPG-CITY=17, MPG-HWY=25, PRICE=32528),\n",
       " Row(MAKE='porsche', FUELTYPE='gas', ASPIRE='std', DOORS='two', BODY='hardtop', DRIVE='rwd', CYLINDERS='six', HP=207, RPM=5900, MPG-CITY=17, MPG-HWY=25, PRICE=34028),\n",
       " Row(MAKE='mercedes-benz', FUELTYPE='gas', ASPIRE='std', DOORS='four', BODY='sedan', DRIVE='rwd', CYLINDERS='eight', HP=155, RPM=4750, MPG-CITY=16, MPG-HWY=18, PRICE=34184),\n",
       " Row(MAKE='mercedes-benz', FUELTYPE='gas', ASPIRE='std', DOORS='two', BODY='convertible', DRIVE='rwd', CYLINDERS='eight', HP=155, RPM=4750, MPG-CITY=16, MPG-HWY=18, PRICE=35056),\n",
       " Row(MAKE='jaguar', FUELTYPE='gas', ASPIRE='std', DOORS='four', BODY='sedan', DRIVE='rwd', CYLINDERS='six', HP=176, RPM=4750, MPG-CITY=15, MPG-HWY=19, PRICE=35550),\n",
       " Row(MAKE='jaguar', FUELTYPE='gas', ASPIRE='std', DOORS='two', BODY='sedan', DRIVE='rwd', CYLINDERS='twelve', HP=262, RPM=5000, MPG-CITY=13, MPG-HWY=17, PRICE=36000),\n",
       " Row(MAKE='bmw', FUELTYPE='gas', ASPIRE='std', DOORS='four', BODY='sedan', DRIVE='rwd', CYLINDERS='six', HP=182, RPM=5400, MPG-CITY=15, MPG-HWY=20, PRICE=36880),\n",
       " Row(MAKE='porsche', FUELTYPE='gas', ASPIRE='std', DOORS='two', BODY='convertible', DRIVE='rwd', CYLINDERS='six', HP=207, RPM=5900, MPG-CITY=17, MPG-HWY=25, PRICE=37028),\n",
       " Row(MAKE='mercedes-benz', FUELTYPE='gas', ASPIRE='std', DOORS='four', BODY='sedan', DRIVE='rwd', CYLINDERS='eight', HP=184, RPM=4500, MPG-CITY=14, MPG-HWY=16, PRICE=40960),\n",
       " Row(MAKE='bmw', FUELTYPE='gas', ASPIRE='std', DOORS='two', BODY='sedan', DRIVE='rwd', CYLINDERS='six', HP=182, RPM=5400, MPG-CITY=16, MPG-HWY=22, PRICE=41315),\n",
       " Row(MAKE='mercedes-benz', FUELTYPE='gas', ASPIRE='std', DOORS='two', BODY='hardtop', DRIVE='rwd', CYLINDERS='eight', HP=184, RPM=4500, MPG-CITY=14, MPG-HWY=16, PRICE=45400)]"
      ]
     },
     "execution_count": 15,
     "metadata": {},
     "output_type": "execute_result"
    }
   ],
   "source": [
    "%%time\n",
    "autoDataDF.collect()"
   ]
  },
  {
   "cell_type": "code",
   "execution_count": 16,
   "id": "5845db81",
   "metadata": {},
   "outputs": [
    {
     "name": "stdout",
     "output_type": "stream",
     "text": [
      "Wall time: 58.7 ms\n"
     ]
    },
    {
     "data": {
      "text/plain": [
       "[Row(MAKE='subaru', FUELTYPE='gas', ASPIRE='std', DOORS='two', BODY='hatchback', DRIVE='fwd', CYLINDERS='four', HP=69, RPM=4900, MPG-CITY=31, MPG-HWY=36, PRICE=5118),\n",
       " Row(MAKE='chevrolet', FUELTYPE='gas', ASPIRE='std', DOORS='two', BODY='hatchback', DRIVE='fwd', CYLINDERS='three', HP=48, RPM=5100, MPG-CITY=47, MPG-HWY=53, PRICE=5151),\n",
       " Row(MAKE='mazda', FUELTYPE='gas', ASPIRE='std', DOORS='two', BODY='hatchback', DRIVE='fwd', CYLINDERS='four', HP=68, RPM=5000, MPG-CITY=30, MPG-HWY=31, PRICE=5195),\n",
       " Row(MAKE='toyota', FUELTYPE='gas', ASPIRE='std', DOORS='two', BODY='hatchback', DRIVE='fwd', CYLINDERS='four', HP=62, RPM=4800, MPG-CITY=35, MPG-HWY=39, PRICE=5348),\n",
       " Row(MAKE='mitsubishi', FUELTYPE='gas', ASPIRE='std', DOORS='two', BODY='hatchback', DRIVE='fwd', CYLINDERS='four', HP=68, RPM=5500, MPG-CITY=37, MPG-HWY=41, PRICE=5389),\n",
       " Row(MAKE='honda', FUELTYPE='gas', ASPIRE='std', DOORS='two', BODY='hatchback', DRIVE='fwd', CYLINDERS='four', HP=60, RPM=5500, MPG-CITY=38, MPG-HWY=42, PRICE=5399),\n",
       " Row(MAKE='nissan', FUELTYPE='gas', ASPIRE='std', DOORS='two', BODY='sedan', DRIVE='fwd', CYLINDERS='four', HP=69, RPM=5200, MPG-CITY=31, MPG-HWY=37, PRICE=5499),\n",
       " Row(MAKE='dodge', FUELTYPE='gas', ASPIRE='std', DOORS='two', BODY='hatchback', DRIVE='fwd', CYLINDERS='four', HP=68, RPM=5500, MPG-CITY=37, MPG-HWY=41, PRICE=5572),\n",
       " Row(MAKE='plymouth', FUELTYPE='gas', ASPIRE='std', DOORS='two', BODY='hatchback', DRIVE='fwd', CYLINDERS='four', HP=68, RPM=5500, MPG-CITY=37, MPG-HWY=41, PRICE=5572),\n",
       " Row(MAKE='mazda', FUELTYPE='gas', ASPIRE='std', DOORS='two', BODY='hatchback', DRIVE='fwd', CYLINDERS='four', HP=68, RPM=5000, MPG-CITY=31, MPG-HWY=38, PRICE=6095),\n",
       " Row(MAKE='mitsubishi', FUELTYPE='gas', ASPIRE='std', DOORS='two', BODY='hatchback', DRIVE='fwd', CYLINDERS='four', HP=68, RPM=5500, MPG-CITY=31, MPG-HWY=38, PRICE=6189),\n",
       " Row(MAKE='dodge', FUELTYPE='gas', ASPIRE='std', DOORS='four', BODY='hatchback', DRIVE='fwd', CYLINDERS='four', HP=68, RPM=5500, MPG-CITY=31, MPG-HWY=38, PRICE=6229),\n",
       " Row(MAKE='plymouth', FUELTYPE='gas', ASPIRE='std', DOORS='four', BODY='hatchback', DRIVE='fwd', CYLINDERS='four', HP=68, RPM=5500, MPG-CITY=31, MPG-HWY=38, PRICE=6229),\n",
       " Row(MAKE='chevrolet', FUELTYPE='gas', ASPIRE='std', DOORS='two', BODY='hatchback', DRIVE='fwd', CYLINDERS='four', HP=70, RPM=5400, MPG-CITY=38, MPG-HWY=43, PRICE=6295),\n",
       " Row(MAKE='toyota', FUELTYPE='gas', ASPIRE='std', DOORS='two', BODY='hatchback', DRIVE='fwd', CYLINDERS='four', HP=62, RPM=4800, MPG-CITY=31, MPG-HWY=38, PRICE=6338),\n",
       " Row(MAKE='dodge', FUELTYPE='gas', ASPIRE='std', DOORS='two', BODY='hatchback', DRIVE='fwd', CYLINDERS='four', HP=68, RPM=5500, MPG-CITY=31, MPG-HWY=38, PRICE=6377),\n",
       " Row(MAKE='honda', FUELTYPE='gas', ASPIRE='std', DOORS='two', BODY='hatchback', DRIVE='fwd', CYLINDERS='four', HP=58, RPM=4800, MPG-CITY=49, MPG-HWY=54, PRICE=6479),\n",
       " Row(MAKE='toyota', FUELTYPE='gas', ASPIRE='std', DOORS='four', BODY='hatchback', DRIVE='fwd', CYLINDERS='four', HP=62, RPM=4800, MPG-CITY=31, MPG-HWY=38, PRICE=6488),\n",
       " Row(MAKE='honda', FUELTYPE='gas', ASPIRE='std', DOORS='two', BODY='hatchback', DRIVE='fwd', CYLINDERS='four', HP=76, RPM=6000, MPG-CITY=30, MPG-HWY=34, PRICE=6529),\n",
       " Row(MAKE='chevrolet', FUELTYPE='gas', ASPIRE='std', DOORS='four', BODY='sedan', DRIVE='fwd', CYLINDERS='four', HP=70, RPM=5400, MPG-CITY=38, MPG-HWY=43, PRICE=6575),\n",
       " Row(MAKE='nissan', FUELTYPE='gas', ASPIRE='std', DOORS='two', BODY='sedan', DRIVE='fwd', CYLINDERS='four', HP=69, RPM=5200, MPG-CITY=31, MPG-HWY=37, PRICE=6649),\n",
       " Row(MAKE='mitsubishi', FUELTYPE='gas', ASPIRE='std', DOORS='two', BODY='hatchback', DRIVE='fwd', CYLINDERS='four', HP=68, RPM=5500, MPG-CITY=31, MPG-HWY=38, PRICE=6669),\n",
       " Row(MAKE='dodge', FUELTYPE='gas', ASPIRE='std', DOORS='four', BODY='sedan', DRIVE='fwd', CYLINDERS='four', HP=68, RPM=5500, MPG-CITY=31, MPG-HWY=38, PRICE=6692),\n",
       " Row(MAKE='plymouth', FUELTYPE='gas', ASPIRE='std', DOORS='four', BODY='sedan', DRIVE='fwd', CYLINDERS='four', HP=68, RPM=5500, MPG-CITY=31, MPG-HWY=38, PRICE=6692),\n",
       " Row(MAKE='mazda', FUELTYPE='gas', ASPIRE='std', DOORS='four', BODY='sedan', DRIVE='fwd', CYLINDERS='four', HP=68, RPM=5000, MPG-CITY=31, MPG-HWY=38, PRICE=6695),\n",
       " Row(MAKE='isuzu', FUELTYPE='gas', ASPIRE='std', DOORS='four', BODY='sedan', DRIVE='rwd', CYLINDERS='four', HP=78, RPM=4800, MPG-CITY=24, MPG-HWY=29, PRICE=6785),\n",
       " Row(MAKE='mazda', FUELTYPE='gas', ASPIRE='std', DOORS='two', BODY='hatchback', DRIVE='fwd', CYLINDERS='four', HP=68, RPM=5000, MPG-CITY=31, MPG-HWY=38, PRICE=6795),\n",
       " Row(MAKE='nissan', FUELTYPE='gas', ASPIRE='std', DOORS='four', BODY='sedan', DRIVE='fwd', CYLINDERS='four', HP=69, RPM=5200, MPG-CITY=31, MPG-HWY=37, PRICE=6849),\n",
       " Row(MAKE='honda', FUELTYPE='gas', ASPIRE='std', DOORS='two', BODY='hatchback', DRIVE='fwd', CYLINDERS='four', HP=76, RPM=6000, MPG-CITY=31, MPG-HWY=38, PRICE=6855),\n",
       " Row(MAKE='toyota', FUELTYPE='gas', ASPIRE='std', DOORS='four', BODY='wagon', DRIVE='fwd', CYLINDERS='four', HP=62, RPM=4800, MPG-CITY=31, MPG-HWY=37, PRICE=6918),\n",
       " Row(MAKE='toyota', FUELTYPE='gas', ASPIRE='std', DOORS='four', BODY='sedan', DRIVE='fwd', CYLINDERS='four', HP=70, RPM=4800, MPG-CITY=30, MPG-HWY=37, PRICE=6938),\n",
       " Row(MAKE='mitsubishi', FUELTYPE='gas', ASPIRE='std', DOORS='four', BODY='sedan', DRIVE='fwd', CYLINDERS='four', HP=88, RPM=5000, MPG-CITY=25, MPG-HWY=32, PRICE=6989),\n",
       " Row(MAKE='subaru', FUELTYPE='gas', ASPIRE='std', DOORS='two', BODY='hatchback', DRIVE='fwd', CYLINDERS='four', HP=73, RPM=4400, MPG-CITY=26, MPG-HWY=31, PRICE=7053),\n",
       " Row(MAKE='nissan', FUELTYPE='diesel', ASPIRE='std', DOORS='two', BODY='sedan', DRIVE='fwd', CYLINDERS='four', HP=55, RPM=4800, MPG-CITY=45, MPG-HWY=50, PRICE=7099),\n",
       " Row(MAKE='subaru', FUELTYPE='gas', ASPIRE='std', DOORS='four', BODY='sedan', DRIVE='fwd', CYLINDERS='four', HP=82, RPM=4800, MPG-CITY=32, MPG-HWY=37, PRICE=7126),\n",
       " Row(MAKE='honda', FUELTYPE='gas', ASPIRE='std', DOORS='two', BODY='hatchback', DRIVE='fwd', CYLINDERS='four', HP=76, RPM=6000, MPG-CITY=30, MPG-HWY=34, PRICE=7129),\n",
       " Row(MAKE='toyota', FUELTYPE='gas', ASPIRE='std', DOORS='four', BODY='hatchback', DRIVE='fwd', CYLINDERS='four', HP=70, RPM=4800, MPG-CITY=30, MPG-HWY=37, PRICE=7198),\n",
       " Row(MAKE='honda', FUELTYPE='gas', ASPIRE='std', DOORS='four', BODY='sedan', DRIVE='fwd', CYLINDERS='four', HP=76, RPM=6000, MPG-CITY=30, MPG-HWY=34, PRICE=7295),\n",
       " Row(MAKE='honda', FUELTYPE='gas', ASPIRE='std', DOORS='four', BODY='wagon', DRIVE='fwd', CYLINDERS='four', HP=76, RPM=6000, MPG-CITY=30, MPG-HWY=34, PRICE=7295),\n",
       " Row(MAKE='nissan', FUELTYPE='gas', ASPIRE='std', DOORS='two', BODY='sedan', DRIVE='fwd', CYLINDERS='four', HP=69, RPM=5200, MPG-CITY=31, MPG-HWY=37, PRICE=7299),\n",
       " Row(MAKE='nissan', FUELTYPE='gas', ASPIRE='std', DOORS='four', BODY='wagon', DRIVE='fwd', CYLINDERS='four', HP=69, RPM=5200, MPG-CITY=31, MPG-HWY=37, PRICE=7349),\n",
       " Row(MAKE='mazda', FUELTYPE='gas', ASPIRE='std', DOORS='four', BODY='sedan', DRIVE='fwd', CYLINDERS='four', HP=68, RPM=5000, MPG-CITY=31, MPG-HWY=38, PRICE=7395),\n",
       " Row(MAKE='subaru', FUELTYPE='gas', ASPIRE='std', DOORS='four', BODY='wagon', DRIVE='fwd', CYLINDERS='four', HP=82, RPM=4800, MPG-CITY=28, MPG-HWY=32, PRICE=7463),\n",
       " Row(MAKE='nissan', FUELTYPE='gas', ASPIRE='std', DOORS='four', BODY='sedan', DRIVE='fwd', CYLINDERS='four', HP=69, RPM=5200, MPG-CITY=31, MPG-HWY=37, PRICE=7499),\n",
       " Row(MAKE='subaru', FUELTYPE='gas', ASPIRE='std', DOORS='two', BODY='hatchback', DRIVE='4wd', CYLINDERS='four', HP=73, RPM=4400, MPG-CITY=26, MPG-HWY=31, PRICE=7603),\n",
       " Row(MAKE='dodge', FUELTYPE='gas', ASPIRE='std', DOORS='four', BODY='sedan', DRIVE='fwd', CYLINDERS='four', HP=68, RPM=5500, MPG-CITY=31, MPG-HWY=38, PRICE=7609),\n",
       " Row(MAKE='plymouth', FUELTYPE='gas', ASPIRE='std', DOORS='four', BODY='sedan', DRIVE='fwd', CYLINDERS='four', HP=68, RPM=5500, MPG-CITY=31, MPG-HWY=38, PRICE=7609),\n",
       " Row(MAKE='mitsubishi', FUELTYPE='gas', ASPIRE='turbo', DOORS='two', BODY='hatchback', DRIVE='fwd', CYLINDERS='four', HP=102, RPM=5500, MPG-CITY=24, MPG-HWY=30, PRICE=7689),\n",
       " Row(MAKE='toyota', FUELTYPE='gas', ASPIRE='std', DOORS='four', BODY='sedan', DRIVE='fwd', CYLINDERS='four', HP=70, RPM=4800, MPG-CITY=38, MPG-HWY=47, PRICE=7738),\n",
       " Row(MAKE='subaru', FUELTYPE='gas', ASPIRE='std', DOORS='four', BODY='sedan', DRIVE='fwd', CYLINDERS='four', HP=82, RPM=4400, MPG-CITY=28, MPG-HWY=33, PRICE=7775),\n",
       " Row(MAKE='volkswagen', FUELTYPE='diesel', ASPIRE='std', DOORS='two', BODY='sedan', DRIVE='fwd', CYLINDERS='four', HP=52, RPM=4800, MPG-CITY=37, MPG-HWY=46, PRICE=7775),\n",
       " Row(MAKE='toyota', FUELTYPE='diesel', ASPIRE='std', DOORS='four', BODY='hatchback', DRIVE='fwd', CYLINDERS='four', HP=56, RPM=4500, MPG-CITY=38, MPG-HWY=47, PRICE=7788),\n",
       " Row(MAKE='nissan', FUELTYPE='gas', ASPIRE='std', DOORS='two', BODY='hatchback', DRIVE='fwd', CYLINDERS='four', HP=69, RPM=5200, MPG-CITY=31, MPG-HWY=37, PRICE=7799),\n",
       " Row(MAKE='honda', FUELTYPE='gas', ASPIRE='std', DOORS='two', BODY='hatchback', DRIVE='fwd', CYLINDERS='four', HP=86, RPM=5800, MPG-CITY=27, MPG-HWY=33, PRICE=7895),\n",
       " Row(MAKE='toyota', FUELTYPE='gas', ASPIRE='std', DOORS='four', BODY='wagon', DRIVE='4wd', CYLINDERS='four', HP=62, RPM=4800, MPG-CITY=27, MPG-HWY=32, PRICE=7898),\n",
       " Row(MAKE='toyota', FUELTYPE='diesel', ASPIRE='std', DOORS='four', BODY='sedan', DRIVE='fwd', CYLINDERS='four', HP=56, RPM=4500, MPG-CITY=34, MPG-HWY=36, PRICE=7898),\n",
       " Row(MAKE='dodge', FUELTYPE='gas', ASPIRE='turbo', DOORS='two', BODY='hatchback', DRIVE='fwd', CYLINDERS='four', HP=102, RPM=5500, MPG-CITY=24, MPG-HWY=30, PRICE=7957),\n",
       " Row(MAKE='plymouth', FUELTYPE='gas', ASPIRE='turbo', DOORS='two', BODY='hatchback', DRIVE='fwd', CYLINDERS='four', HP=102, RPM=5500, MPG-CITY=24, MPG-HWY=30, PRICE=7957),\n",
       " Row(MAKE='volkswagen', FUELTYPE='gas', ASPIRE='std', DOORS='two', BODY='sedan', DRIVE='fwd', CYLINDERS='four', HP=85, RPM=5250, MPG-CITY=27, MPG-HWY=34, PRICE=7975),\n",
       " Row(MAKE='volkswagen', FUELTYPE='diesel', ASPIRE='std', DOORS='four', BODY='sedan', DRIVE='fwd', CYLINDERS='four', HP=52, RPM=4800, MPG-CITY=37, MPG-HWY=46, PRICE=7995),\n",
       " Row(MAKE='nissan', FUELTYPE='gas', ASPIRE='std', DOORS='four', BODY='wagon', DRIVE='fwd', CYLINDERS='four', HP=69, RPM=5200, MPG-CITY=31, MPG-HWY=37, PRICE=7999),\n",
       " Row(MAKE='subaru', FUELTYPE='gas', ASPIRE='std', DOORS='four', BODY='wagon', DRIVE='4wd', CYLINDERS='four', HP=82, RPM=4800, MPG-CITY=23, MPG-HWY=29, PRICE=8013),\n",
       " Row(MAKE='toyota', FUELTYPE='gas', ASPIRE='std', DOORS='two', BODY='sedan', DRIVE='rwd', CYLINDERS='four', HP=70, RPM=4800, MPG-CITY=29, MPG-HWY=34, PRICE=8058),\n",
       " Row(MAKE='mitsubishi', FUELTYPE='gas', ASPIRE='std', DOORS='four', BODY='sedan', DRIVE='fwd', CYLINDERS='four', HP=88, RPM=5000, MPG-CITY=25, MPG-HWY=32, PRICE=8189),\n",
       " Row(MAKE='volkswagen', FUELTYPE='gas', ASPIRE='std', DOORS='four', BODY='sedan', DRIVE='fwd', CYLINDERS='four', HP=85, RPM=5250, MPG-CITY=27, MPG-HWY=34, PRICE=8195),\n",
       " Row(MAKE='toyota', FUELTYPE='gas', ASPIRE='std', DOORS='two', BODY='hatchback', DRIVE='rwd', CYLINDERS='four', HP=70, RPM=4800, MPG-CITY=29, MPG-HWY=34, PRICE=8238),\n",
       " Row(MAKE='nissan', FUELTYPE='gas', ASPIRE='std', DOORS='two', BODY='hardtop', DRIVE='fwd', CYLINDERS='four', HP=69, RPM=5200, MPG-CITY=31, MPG-HWY=37, PRICE=8249),\n",
       " Row(MAKE='toyota', FUELTYPE='gas', ASPIRE='std', DOORS='four', BODY='hatchback', DRIVE='fwd', CYLINDERS='four', HP=70, RPM=4800, MPG-CITY=28, MPG-HWY=34, PRICE=8358),\n",
       " Row(MAKE='toyota', FUELTYPE='gas', ASPIRE='std', DOORS='two', BODY='hardtop', DRIVE='rwd', CYLINDERS='four', HP=116, RPM=4800, MPG-CITY=24, MPG-HWY=30, PRICE=8449),\n",
       " Row(MAKE='mazda', FUELTYPE='gas', ASPIRE='std', DOORS='four', BODY='sedan', DRIVE='fwd', CYLINDERS='four', HP=84, RPM=4800, MPG-CITY=26, MPG-HWY=32, PRICE=8495),\n",
       " Row(MAKE='volkswagen', FUELTYPE='gas', ASPIRE='std', DOORS='four', BODY='sedan', DRIVE='fwd', CYLINDERS='four', HP=85, RPM=5250, MPG-CITY=27, MPG-HWY=34, PRICE=8495),\n",
       " Row(MAKE='mitsubishi', FUELTYPE='gas', ASPIRE='std', DOORS='two', BODY='hatchback', DRIVE='fwd', CYLINDERS='four', HP=88, RPM=5000, MPG-CITY=25, MPG-HWY=32, PRICE=8499),\n",
       " Row(MAKE='toyota', FUELTYPE='gas', ASPIRE='std', DOORS='four', BODY='wagon', DRIVE='4wd', CYLINDERS='four', HP=62, RPM=4800, MPG-CITY=27, MPG-HWY=32, PRICE=8778),\n",
       " Row(MAKE='honda', FUELTYPE='gas', ASPIRE='std', DOORS='four', BODY='sedan', DRIVE='fwd', CYLINDERS='four', HP=86, RPM=5800, MPG-CITY=27, MPG-HWY=33, PRICE=8845),\n",
       " Row(MAKE='mazda', FUELTYPE='gas', ASPIRE='std', DOORS='two', BODY='hatchback', DRIVE='fwd', CYLINDERS='four', HP=84, RPM=4800, MPG-CITY=26, MPG-HWY=32, PRICE=8845),\n",
       " Row(MAKE='dodge', FUELTYPE='gas', ASPIRE='std', DOORS='four', BODY='wagon', DRIVE='fwd', CYLINDERS='four', HP=88, RPM=5000, MPG-CITY=24, MPG-HWY=30, PRICE=8921),\n",
       " Row(MAKE='plymouth', FUELTYPE='gas', ASPIRE='std', DOORS='four', BODY='wagon', DRIVE='fwd', CYLINDERS='four', HP=88, RPM=5000, MPG-CITY=24, MPG-HWY=30, PRICE=8921),\n",
       " Row(MAKE='toyota', FUELTYPE='gas', ASPIRE='std', DOORS='four', BODY='sedan', DRIVE='fwd', CYLINDERS='four', HP=92, RPM=4200, MPG-CITY=29, MPG-HWY=34, PRICE=8948),\n",
       " Row(MAKE='nissan', FUELTYPE='gas', ASPIRE='std', DOORS='four', BODY='hatchback', DRIVE='fwd', CYLINDERS='four', HP=97, RPM=5200, MPG-CITY=27, MPG-HWY=34, PRICE=8949),\n",
       " Row(MAKE='honda', FUELTYPE='gas', ASPIRE='std', DOORS='two', BODY='hatchback', DRIVE='fwd', CYLINDERS='four', HP=86, RPM=5800, MPG-CITY=27, MPG-HWY=33, PRICE=9095),\n",
       " Row(MAKE='subaru', FUELTYPE='gas', ASPIRE='std', DOORS='four', BODY='sedan', DRIVE='4wd', CYLINDERS='four', HP=82, RPM=4800, MPG-CITY=24, MPG-HWY=25, PRICE=9233),\n",
       " Row(MAKE='toyota', FUELTYPE='gas', ASPIRE='std', DOORS='four', BODY='sedan', DRIVE='fwd', CYLINDERS='four', HP=70, RPM=4800, MPG-CITY=28, MPG-HWY=34, PRICE=9258),\n",
       " Row(MAKE='mitsubishi', FUELTYPE='gas', ASPIRE='turbo', DOORS='four', BODY='sedan', DRIVE='fwd', CYLINDERS='four', HP=116, RPM=5500, MPG-CITY=23, MPG-HWY=30, PRICE=9279),\n",
       " Row(MAKE='mitsubishi', FUELTYPE='gas', ASPIRE='std', DOORS='four', BODY='sedan', DRIVE='fwd', CYLINDERS='four', HP=116, RPM=5500, MPG-CITY=23, MPG-HWY=30, PRICE=9279),\n",
       " Row(MAKE='toyota', FUELTYPE='gas', ASPIRE='std', DOORS='two', BODY='sedan', DRIVE='rwd', CYLINDERS='four', HP=112, RPM=6600, MPG-CITY=26, MPG-HWY=29, PRICE=9298),\n",
       " Row(MAKE='volkswagen', FUELTYPE='diesel', ASPIRE='turbo', DOORS='four', BODY='sedan', DRIVE='fwd', CYLINDERS='four', HP=68, RPM=4500, MPG-CITY=37, MPG-HWY=42, PRICE=9495),\n",
       " Row(MAKE='toyota', FUELTYPE='gas', ASPIRE='std', DOORS='two', BODY='hatchback', DRIVE='rwd', CYLINDERS='four', HP=112, RPM=6600, MPG-CITY=26, MPG-HWY=29, PRICE=9538),\n",
       " Row(MAKE='nissan', FUELTYPE='gas', ASPIRE='std', DOORS='four', BODY='sedan', DRIVE='fwd', CYLINDERS='four', HP=97, RPM=5200, MPG-CITY=27, MPG-HWY=34, PRICE=9549),\n",
       " Row(MAKE='toyota', FUELTYPE='gas', ASPIRE='std', DOORS='two', BODY='hardtop', DRIVE='rwd', CYLINDERS='four', HP=116, RPM=4800, MPG-CITY=24, MPG-HWY=30, PRICE=9639),\n",
       " Row(MAKE='mitsubishi', FUELTYPE='gas', ASPIRE='turbo', DOORS='two', BODY='hatchback', DRIVE='fwd', CYLINDERS='four', HP=116, RPM=5500, MPG-CITY=23, MPG-HWY=30, PRICE=9959),\n",
       " Row(MAKE='subaru', FUELTYPE='gas', ASPIRE='std', DOORS='four', BODY='sedan', DRIVE='fwd', CYLINDERS='four', HP=94, RPM=5200, MPG-CITY=26, MPG-HWY=32, PRICE=9960),\n",
       " Row(MAKE='volkswagen', FUELTYPE='gas', ASPIRE='std', DOORS='two', BODY='hatchback', DRIVE='fwd', CYLINDERS='four', HP=90, RPM=5500, MPG-CITY=24, MPG-HWY=29, PRICE=9980),\n",
       " Row(MAKE='toyota', FUELTYPE='gas', ASPIRE='std', DOORS='four', BODY='hatchback', DRIVE='fwd', CYLINDERS='four', HP=92, RPM=4200, MPG-CITY=27, MPG-HWY=32, PRICE=9988),\n",
       " Row(MAKE='toyota', FUELTYPE='gas', ASPIRE='std', DOORS='two', BODY='hatchback', DRIVE='rwd', CYLINDERS='four', HP=116, RPM=4800, MPG-CITY=24, MPG-HWY=30, PRICE=9989),\n",
       " Row(MAKE='volkswagen', FUELTYPE='gas', ASPIRE='std', DOORS='four', BODY='sedan', DRIVE='fwd', CYLINDERS='four', HP=100, RPM=5500, MPG-CITY=26, MPG-HWY=32, PRICE=9995),\n",
       " Row(MAKE='subaru', FUELTYPE='gas', ASPIRE='std', DOORS='four', BODY='wagon', DRIVE='fwd', CYLINDERS='four', HP=94, RPM=5200, MPG-CITY=25, MPG-HWY=31, PRICE=10198),\n",
       " Row(MAKE='mazda', FUELTYPE='gas', ASPIRE='std', DOORS='four', BODY='sedan', DRIVE='fwd', CYLINDERS='four', HP=84, RPM=4800, MPG-CITY=26, MPG-HWY=32, PRICE=10245),\n",
       " Row(MAKE='honda', FUELTYPE='gas', ASPIRE='std', DOORS='four', BODY='sedan', DRIVE='fwd', CYLINDERS='four', HP=86, RPM=5800, MPG-CITY=27, MPG-HWY=33, PRICE=10295),\n",
       " Row(MAKE='honda', FUELTYPE='gas', ASPIRE='std', DOORS='two', BODY='sedan', DRIVE='fwd', CYLINDERS='four', HP=100, RPM=5500, MPG-CITY=25, MPG-HWY=31, PRICE=10345),\n",
       " Row(MAKE='mazda', FUELTYPE='gas', ASPIRE='std', DOORS='two', BODY='hatchback', DRIVE='fwd', CYLINDERS='four', HP=84, RPM=4800, MPG-CITY=26, MPG-HWY=32, PRICE=10595),\n",
       " Row(MAKE='toyota', FUELTYPE='diesel', ASPIRE='turbo', DOORS='four', BODY='sedan', DRIVE='fwd', CYLINDERS='four', HP=73, RPM=4500, MPG-CITY=30, MPG-HWY=33, PRICE=10698),\n",
       " Row(MAKE='toyota', FUELTYPE='gas', ASPIRE='std', DOORS='four', BODY='sedan', DRIVE='fwd', CYLINDERS='four', HP=92, RPM=4200, MPG-CITY=27, MPG-HWY=32, PRICE=10898),\n",
       " Row(MAKE='mazda', FUELTYPE='gas', ASPIRE='std', DOORS='two', BODY='hatchback', DRIVE='rwd', CYLINDERS='two', HP=101, RPM=6000, MPG-CITY=17, MPG-HWY=23, PRICE=10945),\n",
       " Row(MAKE='isuzu', FUELTYPE='gas', ASPIRE='std', DOORS='two', BODY='hatchback', DRIVE='rwd', CYLINDERS='four', HP=90, RPM=5000, MPG-CITY=24, MPG-HWY=29, PRICE=11048),\n",
       " Row(MAKE='toyota', FUELTYPE='gas', ASPIRE='std', DOORS='two', BODY='hardtop', DRIVE='rwd', CYLINDERS='four', HP=116, RPM=4800, MPG-CITY=24, MPG-HWY=30, PRICE=11199),\n",
       " Row(MAKE='mazda', FUELTYPE='gas', ASPIRE='std', DOORS='four', BODY='hatchback', DRIVE='fwd', CYLINDERS='four', HP=84, RPM=4800, MPG-CITY=26, MPG-HWY=32, PRICE=11245),\n",
       " Row(MAKE='toyota', FUELTYPE='gas', ASPIRE='std', DOORS='four', BODY='hatchback', DRIVE='fwd', CYLINDERS='four', HP=92, RPM=4200, MPG-CITY=27, MPG-HWY=32, PRICE=11248),\n",
       " Row(MAKE='subaru', FUELTYPE='gas', ASPIRE='turbo', DOORS='four', BODY='sedan', DRIVE='4wd', CYLINDERS='four', HP=111, RPM=4800, MPG-CITY=24, MPG-HWY=29, PRICE=11259),\n",
       " Row(MAKE='toyota', FUELTYPE='gas', ASPIRE='std', DOORS='two', BODY='hatchback', DRIVE='rwd', CYLINDERS='four', HP=116, RPM=4800, MPG-CITY=24, MPG-HWY=30, PRICE=11549),\n",
       " Row(MAKE='volkswagen', FUELTYPE='gas', ASPIRE='std', DOORS='two', BODY='convertible', DRIVE='fwd', CYLINDERS='four', HP=90, RPM=5500, MPG-CITY=24, MPG-HWY=29, PRICE=11595),\n",
       " Row(MAKE='subaru', FUELTYPE='gas', ASPIRE='turbo', DOORS='four', BODY='wagon', DRIVE='4wd', CYLINDERS='four', HP=111, RPM=4800, MPG-CITY=23, MPG-HWY=23, PRICE=11694),\n",
       " Row(MAKE='mazda', FUELTYPE='gas', ASPIRE='std', DOORS='two', BODY='hatchback', DRIVE='rwd', CYLINDERS='two', HP=101, RPM=6000, MPG-CITY=17, MPG-HWY=23, PRICE=11845),\n",
       " Row(MAKE='saab', FUELTYPE='gas', ASPIRE='std', DOORS='two', BODY='hatchback', DRIVE='fwd', CYLINDERS='four', HP=110, RPM=5250, MPG-CITY=21, MPG-HWY=28, PRICE=11850),\n",
       " Row(MAKE='peugot', FUELTYPE='gas', ASPIRE='std', DOORS='four', BODY='sedan', DRIVE='rwd', CYLINDERS='four', HP=97, RPM=5000, MPG-CITY=19, MPG-HWY=24, PRICE=11900),\n",
       " Row(MAKE='saab', FUELTYPE='gas', ASPIRE='std', DOORS='four', BODY='sedan', DRIVE='fwd', CYLINDERS='four', HP=110, RPM=5250, MPG-CITY=21, MPG-HWY=28, PRICE=12170),\n",
       " Row(MAKE='volkswagen', FUELTYPE='gas', ASPIRE='std', DOORS='four', BODY='wagon', DRIVE='fwd', CYLINDERS='four', HP=88, RPM=5500, MPG-CITY=25, MPG-HWY=31, PRICE=12290),\n",
       " Row(MAKE='peugot', FUELTYPE='gas', ASPIRE='std', DOORS='four', BODY='wagon', DRIVE='rwd', CYLINDERS='four', HP=97, RPM=5000, MPG-CITY=19, MPG-HWY=24, PRICE=12440),\n",
       " Row(MAKE='mitsubishi', FUELTYPE='gas', ASPIRE='turbo', DOORS='two', BODY='hatchback', DRIVE='fwd', CYLINDERS='four', HP=145, RPM=5000, MPG-CITY=19, MPG-HWY=24, PRICE=12629),\n",
       " Row(MAKE='plymouth', FUELTYPE='gas', ASPIRE='turbo', DOORS='two', BODY='hatchback', DRIVE='rwd', CYLINDERS='four', HP=145, RPM=5000, MPG-CITY=19, MPG-HWY=24, PRICE=12764),\n",
       " Row(MAKE='volvo', FUELTYPE='gas', ASPIRE='std', DOORS='four', BODY='sedan', DRIVE='rwd', CYLINDERS='four', HP=114, RPM=5400, MPG-CITY=23, MPG-HWY=28, PRICE=12940),\n",
       " Row(MAKE='honda', FUELTYPE='gas', ASPIRE='std', DOORS='four', BODY='sedan', DRIVE='fwd', CYLINDERS='four', HP=101, RPM=5800, MPG-CITY=24, MPG-HWY=28, PRICE=12945),\n",
       " Row(MAKE='dodge', FUELTYPE='gas', ASPIRE='turbo', DOORS='two', BODY='hatchback', DRIVE='fwd', CYLINDERS='four', HP=145, RPM=5000, MPG-CITY=19, MPG-HWY=24, PRICE=12964),\n",
       " Row(MAKE='peugot', FUELTYPE='diesel', ASPIRE='turbo', DOORS='four', BODY='sedan', DRIVE='rwd', CYLINDERS='four', HP=95, RPM=4150, MPG-CITY=28, MPG-HWY=33, PRICE=13200),\n",
       " Row(MAKE='volkswagen', FUELTYPE='gas', ASPIRE='std', DOORS='four', BODY='sedan', DRIVE='fwd', CYLINDERS='five', HP=110, RPM=5500, MPG-CITY=19, MPG-HWY=24, PRICE=13295),\n",
       " Row(MAKE='volvo', FUELTYPE='gas', ASPIRE='std', DOORS='four', BODY='wagon', DRIVE='rwd', CYLINDERS='four', HP=114, RPM=5400, MPG-CITY=23, MPG-HWY=28, PRICE=13415),\n",
       " Row(MAKE='alfa-romero', FUELTYPE='gas', ASPIRE='std', DOORS='two', BODY='convertible', DRIVE='rwd', CYLINDERS='four', HP=111, RPM=5000, MPG-CITY=21, MPG-HWY=27, PRICE=13495),\n",
       " Row(MAKE='nissan', FUELTYPE='gas', ASPIRE='std', DOORS='four', BODY='sedan', DRIVE='fwd', CYLINDERS='six', HP=152, RPM=5200, MPG-CITY=17, MPG-HWY=22, PRICE=13499),\n",
       " Row(MAKE='nissan', FUELTYPE='gas', ASPIRE='std', DOORS='four', BODY='sedan', DRIVE='fwd', CYLINDERS='six', HP=152, RPM=5200, MPG-CITY=19, MPG-HWY=25, PRICE=13499),\n",
       " Row(MAKE='mazda', FUELTYPE='gas', ASPIRE='std', DOORS='two', BODY='hatchback', DRIVE='rwd', CYLINDERS='two', HP=101, RPM=6000, MPG-CITY=17, MPG-HWY=23, PRICE=13645),\n",
       " Row(MAKE='volkswagen', FUELTYPE='diesel', ASPIRE='turbo', DOORS='four', BODY='sedan', DRIVE='fwd', CYLINDERS='four', HP=68, RPM=4500, MPG-CITY=33, MPG-HWY=38, PRICE=13845),\n",
       " Row(MAKE='peugot', FUELTYPE='diesel', ASPIRE='turbo', DOORS='four', BODY='wagon', DRIVE='rwd', CYLINDERS='four', HP=95, RPM=4150, MPG-CITY=25, MPG-HWY=25, PRICE=13860),\n",
       " Row(MAKE='audi', FUELTYPE='gas', ASPIRE='std', DOORS='four', BODY='sedan', DRIVE='fwd', CYLINDERS='four', HP=102, RPM=5500, MPG-CITY=24, MPG-HWY=30, PRICE=13950),\n",
       " Row(MAKE='nissan', FUELTYPE='gas', ASPIRE='std', DOORS='four', BODY='wagon', DRIVE='fwd', CYLINDERS='six', HP=152, RPM=5200, MPG-CITY=17, MPG-HWY=22, PRICE=14399),\n",
       " Row(MAKE='mitsubishi', FUELTYPE='gas', ASPIRE='turbo', DOORS='two', BODY='hatchback', DRIVE='fwd', CYLINDERS='four', HP=145, RPM=5000, MPG-CITY=19, MPG-HWY=24, PRICE=14489),\n",
       " Row(MAKE='mitsubishi', FUELTYPE='gas', ASPIRE='turbo', DOORS='two', BODY='hatchback', DRIVE='fwd', CYLINDERS='four', HP=145, RPM=5000, MPG-CITY=19, MPG-HWY=24, PRICE=14869),\n",
       " Row(MAKE='saab', FUELTYPE='gas', ASPIRE='std', DOORS='two', BODY='hatchback', DRIVE='fwd', CYLINDERS='four', HP=110, RPM=5250, MPG-CITY=21, MPG-HWY=28, PRICE=15040),\n",
       " Row(MAKE='audi', FUELTYPE='gas', ASPIRE='std', DOORS='two', BODY='sedan', DRIVE='fwd', CYLINDERS='five', HP=110, RPM=5500, MPG-CITY=19, MPG-HWY=25, PRICE=15250),\n",
       " Row(MAKE='saab', FUELTYPE='gas', ASPIRE='std', DOORS='four', BODY='sedan', DRIVE='fwd', CYLINDERS='four', HP=110, RPM=5250, MPG-CITY=21, MPG-HWY=28, PRICE=15510),\n",
       " Row(MAKE='peugot', FUELTYPE='gas', ASPIRE='std', DOORS='four', BODY='sedan', DRIVE='rwd', CYLINDERS='four', HP=95, RPM=5000, MPG-CITY=19, MPG-HWY=24, PRICE=15580),\n",
       " Row(MAKE='mazda', FUELTYPE='gas', ASPIRE='std', DOORS='two', BODY='hatchback', DRIVE='rwd', CYLINDERS='two', HP=135, RPM=6000, MPG-CITY=16, MPG-HWY=23, PRICE=15645),\n",
       " Row(MAKE='toyota', FUELTYPE='gas', ASPIRE='std', DOORS='four', BODY='sedan', DRIVE='rwd', CYLINDERS='six', HP=156, RPM=5200, MPG-CITY=20, MPG-HWY=24, PRICE=15690),\n",
       " Row(MAKE='toyota', FUELTYPE='gas', ASPIRE='std', DOORS='four', BODY='wagon', DRIVE='rwd', CYLINDERS='six', HP=156, RPM=5200, MPG-CITY=19, MPG-HWY=24, PRICE=15750),\n",
       " Row(MAKE='volvo', FUELTYPE='gas', ASPIRE='std', DOORS='four', BODY='sedan', DRIVE='rwd', CYLINDERS='four', HP=114, RPM=5400, MPG-CITY=24, MPG-HWY=28, PRICE=15985),\n",
       " Row(MAKE='toyota', FUELTYPE='gas', ASPIRE='std', DOORS='two', BODY='hatchback', DRIVE='rwd', CYLINDERS='six', HP=161, RPM=5200, MPG-CITY=19, MPG-HWY=24, PRICE=15998),\n",
       " Row(MAKE='bmw', FUELTYPE='gas', ASPIRE='std', DOORS='two', BODY='sedan', DRIVE='rwd', CYLINDERS='four', HP=101, RPM=5800, MPG-CITY=23, MPG-HWY=29, PRICE=16430),\n",
       " Row(MAKE='alfa-romero', FUELTYPE='gas', ASPIRE='std', DOORS='two', BODY='convertible', DRIVE='rwd', CYLINDERS='four', HP=111, RPM=5000, MPG-CITY=21, MPG-HWY=27, PRICE=16500),\n",
       " Row(MAKE='alfa-romero', FUELTYPE='gas', ASPIRE='std', DOORS='two', BODY='hatchback', DRIVE='rwd', CYLINDERS='six', HP=154, RPM=5000, MPG-CITY=19, MPG-HWY=26, PRICE=16500),\n",
       " Row(MAKE='mercury', FUELTYPE='gas', ASPIRE='turbo', DOORS='two', BODY='hatchback', DRIVE='rwd', CYLINDERS='four', HP=175, RPM=5000, MPG-CITY=19, MPG-HWY=24, PRICE=16503),\n",
       " Row(MAKE='volvo', FUELTYPE='gas', ASPIRE='std', DOORS='four', BODY='wagon', DRIVE='rwd', CYLINDERS='four', HP=114, RPM=5400, MPG-CITY=24, MPG-HWY=28, PRICE=16515),\n",
       " Row(MAKE='toyota', FUELTYPE='gas', ASPIRE='std', DOORS='two', BODY='hatchback', DRIVE='rwd', CYLINDERS='six', HP=161, RPM=5200, MPG-CITY=20, MPG-HWY=24, PRICE=16558),\n",
       " Row(MAKE='peugot', FUELTYPE='gas', ASPIRE='std', DOORS='four', BODY='sedan', DRIVE='rwd', CYLINDERS='four', HP=97, RPM=5000, MPG-CITY=19, MPG-HWY=24, PRICE=16630),\n",
       " Row(MAKE='peugot', FUELTYPE='gas', ASPIRE='std', DOORS='four', BODY='wagon', DRIVE='rwd', CYLINDERS='four', HP=95, RPM=5000, MPG-CITY=19, MPG-HWY=24, PRICE=16695),\n",
       " Row(MAKE='volvo', FUELTYPE='gas', ASPIRE='std', DOORS='four', BODY='sedan', DRIVE='rwd', CYLINDERS='four', HP=114, RPM=5400, MPG-CITY=23, MPG-HWY=28, PRICE=16845),\n",
       " Row(MAKE='peugot', FUELTYPE='diesel', ASPIRE='turbo', DOORS='four', BODY='sedan', DRIVE='rwd', CYLINDERS='four', HP=95, RPM=4150, MPG-CITY=28, MPG-HWY=33, PRICE=16900),\n",
       " Row(MAKE='bmw', FUELTYPE='gas', ASPIRE='std', DOORS='four', BODY='sedan', DRIVE='rwd', CYLINDERS='four', HP=101, RPM=5800, MPG-CITY=23, MPG-HWY=29, PRICE=16925),\n",
       " Row(MAKE='peugot', FUELTYPE='diesel', ASPIRE='turbo', DOORS='four', BODY='wagon', DRIVE='rwd', CYLINDERS='four', HP=95, RPM=4150, MPG-CITY=25, MPG-HWY=25, PRICE=17075),\n",
       " Row(MAKE='nissan', FUELTYPE='gas', ASPIRE='std', DOORS='two', BODY='hatchback', DRIVE='rwd', CYLINDERS='six', HP=160, RPM=5200, MPG-CITY=19, MPG-HWY=25, PRICE=17199),\n",
       " Row(MAKE='audi', FUELTYPE='gas', ASPIRE='std', DOORS='four', BODY='sedan', DRIVE='4wd', CYLINDERS='five', HP=115, RPM=5500, MPG-CITY=18, MPG-HWY=22, PRICE=17450),\n",
       " Row(MAKE='toyota', FUELTYPE='gas', ASPIRE='std', DOORS='two', BODY='convertible', DRIVE='rwd', CYLINDERS='four', HP=116, RPM=4800, MPG-CITY=24, MPG-HWY=30, PRICE=17669),\n",
       " Row(MAKE='audi', FUELTYPE='gas', ASPIRE='std', DOORS='four', BODY='sedan', DRIVE='fwd', CYLINDERS='five', HP=110, RPM=5500, MPG-CITY=19, MPG-HWY=25, PRICE=17710),\n",
       " Row(MAKE='peugot', FUELTYPE='diesel', ASPIRE='turbo', DOORS='four', BODY='sedan', DRIVE='rwd', CYLINDERS='four', HP=95, RPM=4150, MPG-CITY=28, MPG-HWY=33, PRICE=17950),\n",
       " Row(MAKE='peugot', FUELTYPE='gas', ASPIRE='turbo', DOORS='four', BODY='sedan', DRIVE='rwd', CYLINDERS='four', HP=142, RPM=5600, MPG-CITY=18, MPG-HWY=24, PRICE=18150),\n",
       " Row(MAKE='saab', FUELTYPE='gas', ASPIRE='turbo', DOORS='two', BODY='hatchback', DRIVE='fwd', CYLINDERS='four', HP=160, RPM=5500, MPG-CITY=19, MPG-HWY=26, PRICE=18150),\n",
       " Row(MAKE='mazda', FUELTYPE='gas', ASPIRE='std', DOORS='four', BODY='sedan', DRIVE='rwd', CYLINDERS='four', HP=120, RPM=5000, MPG-CITY=19, MPG-HWY=27, PRICE=18280),\n",
       " Row(MAKE='mazda', FUELTYPE='diesel', ASPIRE='std', DOORS='four', BODY='sedan', DRIVE='rwd', CYLINDERS='four', HP=72, RPM=4200, MPG-CITY=31, MPG-HWY=39, PRICE=18344),\n",
       " Row(MAKE='nissan', FUELTYPE='gas', ASPIRE='std', DOORS='two', BODY='hatchback', DRIVE='rwd', CYLINDERS='six', HP=160, RPM=5200, MPG-CITY=19, MPG-HWY=25, PRICE=18399),\n",
       " Row(MAKE='volvo', FUELTYPE='gas', ASPIRE='turbo', DOORS='four', BODY='sedan', DRIVE='rwd', CYLINDERS='four', HP=162, RPM=5100, MPG-CITY=17, MPG-HWY=22, PRICE=18420),\n",
       " Row(MAKE='saab', FUELTYPE='gas', ASPIRE='turbo', DOORS='four', BODY='sedan', DRIVE='fwd', CYLINDERS='four', HP=160, RPM=5500, MPG-CITY=19, MPG-HWY=26, PRICE=18620),\n",
       " Row(MAKE='audi', FUELTYPE='gas', ASPIRE='std', DOORS='four', BODY='wagon', DRIVE='fwd', CYLINDERS='five', HP=110, RPM=5500, MPG-CITY=19, MPG-HWY=25, PRICE=18920),\n",
       " Row(MAKE='volvo', FUELTYPE='gas', ASPIRE='turbo', DOORS='four', BODY='wagon', DRIVE='rwd', CYLINDERS='four', HP=162, RPM=5100, MPG-CITY=17, MPG-HWY=22, PRICE=18950),\n",
       " Row(MAKE='volvo', FUELTYPE='gas', ASPIRE='turbo', DOORS='four', BODY='sedan', DRIVE='rwd', CYLINDERS='four', HP=160, RPM=5300, MPG-CITY=19, MPG-HWY=25, PRICE=19045),\n",
       " Row(MAKE='nissan', FUELTYPE='gas', ASPIRE='turbo', DOORS='two', BODY='hatchback', DRIVE='rwd', CYLINDERS='six', HP=200, RPM=5200, MPG-CITY=17, MPG-HWY=23, PRICE=19699),\n",
       " Row(MAKE='bmw', FUELTYPE='gas', ASPIRE='std', DOORS='two', BODY='sedan', DRIVE='rwd', CYLINDERS='six', HP=121, RPM=4250, MPG-CITY=21, MPG-HWY=28, PRICE=20970),\n",
       " Row(MAKE='bmw', FUELTYPE='gas', ASPIRE='std', DOORS='four', BODY='sedan', DRIVE='rwd', CYLINDERS='six', HP=121, RPM=4250, MPG-CITY=21, MPG-HWY=28, PRICE=21105),\n",
       " Row(MAKE='volvo', FUELTYPE='gas', ASPIRE='std', DOORS='four', BODY='sedan', DRIVE='rwd', CYLINDERS='six', HP=134, RPM=5500, MPG-CITY=18, MPG-HWY=23, PRICE=21485),\n",
       " Row(MAKE='porsche', FUELTYPE='gas', ASPIRE='std', DOORS='two', BODY='hatchback', DRIVE='rwd', CYLINDERS='four', HP=143, RPM=5500, MPG-CITY=19, MPG-HWY=27, PRICE=22018),\n",
       " Row(MAKE='volvo', FUELTYPE='diesel', ASPIRE='turbo', DOORS='four', BODY='sedan', DRIVE='rwd', CYLINDERS='six', HP=106, RPM=4800, MPG-CITY=26, MPG-HWY=27, PRICE=22470),\n",
       " Row(MAKE='volvo', FUELTYPE='gas', ASPIRE='turbo', DOORS='four', BODY='sedan', DRIVE='rwd', CYLINDERS='four', HP=114, RPM=5400, MPG-CITY=19, MPG-HWY=25, PRICE=22625),\n",
       " Row(MAKE='audi', FUELTYPE='gas', ASPIRE='turbo', DOORS='four', BODY='sedan', DRIVE='fwd', CYLINDERS='five', HP=140, RPM=5500, MPG-CITY=17, MPG-HWY=20, PRICE=23875),\n",
       " Row(MAKE='bmw', FUELTYPE='gas', ASPIRE='std', DOORS='four', BODY='sedan', DRIVE='rwd', CYLINDERS='six', HP=121, RPM=4250, MPG-CITY=20, MPG-HWY=25, PRICE=24565),\n",
       " Row(MAKE='mercedes-benz', FUELTYPE='diesel', ASPIRE='turbo', DOORS='four', BODY='sedan', DRIVE='rwd', CYLINDERS='five', HP=123, RPM=4350, MPG-CITY=22, MPG-HWY=25, PRICE=25552),\n",
       " Row(MAKE='mercedes-benz', FUELTYPE='diesel', ASPIRE='turbo', DOORS='two', BODY='hardtop', DRIVE='rwd', CYLINDERS='five', HP=123, RPM=4350, MPG-CITY=22, MPG-HWY=25, PRICE=28176),\n",
       " Row(MAKE='mercedes-benz', FUELTYPE='diesel', ASPIRE='turbo', DOORS='four', BODY='wagon', DRIVE='rwd', CYLINDERS='five', HP=123, RPM=4350, MPG-CITY=22, MPG-HWY=25, PRICE=28248),\n",
       " Row(MAKE='bmw', FUELTYPE='gas', ASPIRE='std', DOORS='four', BODY='sedan', DRIVE='rwd', CYLINDERS='six', HP=182, RPM=5400, MPG-CITY=16, MPG-HWY=22, PRICE=30760),\n",
       " Row(MAKE='mercedes-benz', FUELTYPE='diesel', ASPIRE='turbo', DOORS='four', BODY='sedan', DRIVE='rwd', CYLINDERS='five', HP=123, RPM=4350, MPG-CITY=22, MPG-HWY=25, PRICE=31600),\n",
       " Row(MAKE='jaguar', FUELTYPE='gas', ASPIRE='std', DOORS='four', BODY='sedan', DRIVE='rwd', CYLINDERS='six', HP=176, RPM=4750, MPG-CITY=15, MPG-HWY=19, PRICE=32250),\n",
       " Row(MAKE='porsche', FUELTYPE='gas', ASPIRE='std', DOORS='two', BODY='hardtop', DRIVE='rwd', CYLINDERS='six', HP=207, RPM=5900, MPG-CITY=17, MPG-HWY=25, PRICE=32528),\n",
       " Row(MAKE='porsche', FUELTYPE='gas', ASPIRE='std', DOORS='two', BODY='hardtop', DRIVE='rwd', CYLINDERS='six', HP=207, RPM=5900, MPG-CITY=17, MPG-HWY=25, PRICE=34028),\n",
       " Row(MAKE='mercedes-benz', FUELTYPE='gas', ASPIRE='std', DOORS='four', BODY='sedan', DRIVE='rwd', CYLINDERS='eight', HP=155, RPM=4750, MPG-CITY=16, MPG-HWY=18, PRICE=34184),\n",
       " Row(MAKE='mercedes-benz', FUELTYPE='gas', ASPIRE='std', DOORS='two', BODY='convertible', DRIVE='rwd', CYLINDERS='eight', HP=155, RPM=4750, MPG-CITY=16, MPG-HWY=18, PRICE=35056),\n",
       " Row(MAKE='jaguar', FUELTYPE='gas', ASPIRE='std', DOORS='four', BODY='sedan', DRIVE='rwd', CYLINDERS='six', HP=176, RPM=4750, MPG-CITY=15, MPG-HWY=19, PRICE=35550),\n",
       " Row(MAKE='jaguar', FUELTYPE='gas', ASPIRE='std', DOORS='two', BODY='sedan', DRIVE='rwd', CYLINDERS='twelve', HP=262, RPM=5000, MPG-CITY=13, MPG-HWY=17, PRICE=36000),\n",
       " Row(MAKE='bmw', FUELTYPE='gas', ASPIRE='std', DOORS='four', BODY='sedan', DRIVE='rwd', CYLINDERS='six', HP=182, RPM=5400, MPG-CITY=15, MPG-HWY=20, PRICE=36880),\n",
       " Row(MAKE='porsche', FUELTYPE='gas', ASPIRE='std', DOORS='two', BODY='convertible', DRIVE='rwd', CYLINDERS='six', HP=207, RPM=5900, MPG-CITY=17, MPG-HWY=25, PRICE=37028),\n",
       " Row(MAKE='mercedes-benz', FUELTYPE='gas', ASPIRE='std', DOORS='four', BODY='sedan', DRIVE='rwd', CYLINDERS='eight', HP=184, RPM=4500, MPG-CITY=14, MPG-HWY=16, PRICE=40960),\n",
       " Row(MAKE='bmw', FUELTYPE='gas', ASPIRE='std', DOORS='two', BODY='sedan', DRIVE='rwd', CYLINDERS='six', HP=182, RPM=5400, MPG-CITY=16, MPG-HWY=22, PRICE=41315),\n",
       " Row(MAKE='mercedes-benz', FUELTYPE='gas', ASPIRE='std', DOORS='two', BODY='hardtop', DRIVE='rwd', CYLINDERS='eight', HP=184, RPM=4500, MPG-CITY=14, MPG-HWY=16, PRICE=45400)]"
      ]
     },
     "execution_count": 16,
     "metadata": {},
     "output_type": "execute_result"
    }
   ],
   "source": [
    "%%time\n",
    "autoDataDF.collect()"
   ]
  },
  {
   "cell_type": "code",
   "execution_count": 17,
   "id": "203c47f5",
   "metadata": {},
   "outputs": [
    {
     "name": "stdout",
     "output_type": "stream",
     "text": [
      "root\n",
      " |-- MAKE: string (nullable = true)\n",
      " |-- FUELTYPE: string (nullable = true)\n",
      " |-- ASPIRE: string (nullable = true)\n",
      " |-- DOORS: string (nullable = true)\n",
      " |-- BODY: string (nullable = true)\n",
      " |-- DRIVE: string (nullable = true)\n",
      " |-- CYLINDERS: string (nullable = true)\n",
      " |-- HP: integer (nullable = true)\n",
      " |-- RPM: integer (nullable = true)\n",
      " |-- MPG-CITY: integer (nullable = true)\n",
      " |-- MPG-HWY: integer (nullable = true)\n",
      " |-- PRICE: integer (nullable = true)\n",
      "\n"
     ]
    }
   ],
   "source": [
    "autoDataDF.printSchema()"
   ]
  },
  {
   "cell_type": "code",
   "execution_count": null,
   "id": "16230e1d",
   "metadata": {},
   "outputs": [],
   "source": []
  }
 ],
 "metadata": {
  "kernelspec": {
   "display_name": "Python 3 (ipykernel)",
   "language": "python",
   "name": "python3"
  },
  "language_info": {
   "codemirror_mode": {
    "name": "ipython",
    "version": 3
   },
   "file_extension": ".py",
   "mimetype": "text/x-python",
   "name": "python",
   "nbconvert_exporter": "python",
   "pygments_lexer": "ipython3",
   "version": "3.7.13"
  }
 },
 "nbformat": 4,
 "nbformat_minor": 5
}
